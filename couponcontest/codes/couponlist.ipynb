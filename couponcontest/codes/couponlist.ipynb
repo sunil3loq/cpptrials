{
 "cells": [
  {
   "cell_type": "code",
   "execution_count": 1,
   "metadata": {
    "collapsed": true
   },
   "outputs": [],
   "source": [
    "import pandas as pd\n",
    "import numpy as np\n",
    "%matplotlib inline\n",
    "import datetime"
   ]
  },
  {
   "cell_type": "code",
   "execution_count": 2,
   "metadata": {
    "collapsed": true
   },
   "outputs": [],
   "source": [
    "dataloc='/var/lib/HPCCSystems/mydropzone/couponcontest/'\n",
    "trainlistfile='coupon_list_train.csv'\n",
    "testlistfile='coupon_list_test.csv'"
   ]
  },
  {
   "cell_type": "code",
   "execution_count": 3,
   "metadata": {
    "collapsed": false
   },
   "outputs": [],
   "source": [
    "#help(pd.read_csv)"
   ]
  },
  {
   "cell_type": "code",
   "execution_count": 18,
   "metadata": {
    "collapsed": false
   },
   "outputs": [],
   "source": [
    "trainlist=pd.read_csv(dataloc+trainlistfile,parse_dates=[6,7,9,10])\n",
    "testlist=pd.read_csv(dataloc+testlistfile,parse_dates=[6,7,9,10])"
   ]
  },
  {
   "cell_type": "code",
   "execution_count": 19,
   "metadata": {
    "collapsed": false
   },
   "outputs": [
    {
     "data": {
      "text/html": [
       "<div>\n",
       "<table border=\"1\" class=\"dataframe\">\n",
       "  <thead>\n",
       "    <tr style=\"text-align: right;\">\n",
       "      <th></th>\n",
       "      <th>CAPSULE_TEXT</th>\n",
       "      <th>GENRE_NAME</th>\n",
       "      <th>PRICE_RATE</th>\n",
       "      <th>CATALOG_PRICE</th>\n",
       "      <th>DISCOUNT_PRICE</th>\n",
       "      <th>DISPFROM</th>\n",
       "      <th>DISPEND</th>\n",
       "      <th>DISPPERIOD</th>\n",
       "      <th>VALIDFROM</th>\n",
       "      <th>VALIDEND</th>\n",
       "      <th>...</th>\n",
       "      <th>USABLE_DATE_THU</th>\n",
       "      <th>USABLE_DATE_FRI</th>\n",
       "      <th>USABLE_DATE_SAT</th>\n",
       "      <th>USABLE_DATE_SUN</th>\n",
       "      <th>USABLE_DATE_HOLIDAY</th>\n",
       "      <th>USABLE_DATE_BEFORE_HOLIDAY</th>\n",
       "      <th>large_area_name</th>\n",
       "      <th>ken_name</th>\n",
       "      <th>small_area_name</th>\n",
       "      <th>COUPON_ID_hash</th>\n",
       "    </tr>\n",
       "  </thead>\n",
       "  <tbody>\n",
       "    <tr>\n",
       "      <th>0</th>\n",
       "      <td>グルメ</td>\n",
       "      <td>グルメ</td>\n",
       "      <td>50</td>\n",
       "      <td>3000</td>\n",
       "      <td>1500</td>\n",
       "      <td>2011-07-08 12:00:00</td>\n",
       "      <td>2011-07-09 12:00:00</td>\n",
       "      <td>1</td>\n",
       "      <td>2011-07-10</td>\n",
       "      <td>2011-12-08</td>\n",
       "      <td>...</td>\n",
       "      <td>1</td>\n",
       "      <td>0</td>\n",
       "      <td>0</td>\n",
       "      <td>1</td>\n",
       "      <td>1</td>\n",
       "      <td>0</td>\n",
       "      <td>関東</td>\n",
       "      <td>埼玉県</td>\n",
       "      <td>埼玉</td>\n",
       "      <td>6b263844241eea98c5a97f1335ea82af</td>\n",
       "    </tr>\n",
       "    <tr>\n",
       "      <th>1</th>\n",
       "      <td>グルメ</td>\n",
       "      <td>グルメ</td>\n",
       "      <td>51</td>\n",
       "      <td>2080</td>\n",
       "      <td>1000</td>\n",
       "      <td>2011-07-01 12:00:00</td>\n",
       "      <td>2011-07-02 12:00:00</td>\n",
       "      <td>1</td>\n",
       "      <td>2011-07-03</td>\n",
       "      <td>2011-12-04</td>\n",
       "      <td>...</td>\n",
       "      <td>1</td>\n",
       "      <td>1</td>\n",
       "      <td>1</td>\n",
       "      <td>1</td>\n",
       "      <td>1</td>\n",
       "      <td>1</td>\n",
       "      <td>関東</td>\n",
       "      <td>千葉県</td>\n",
       "      <td>千葉</td>\n",
       "      <td>cc031f250e8bad1e24060263b9fc0ddd</td>\n",
       "    </tr>\n",
       "    <tr>\n",
       "      <th>2</th>\n",
       "      <td>グルメ</td>\n",
       "      <td>グルメ</td>\n",
       "      <td>50</td>\n",
       "      <td>7000</td>\n",
       "      <td>3500</td>\n",
       "      <td>2011-07-12 12:00:00</td>\n",
       "      <td>2011-07-15 12:00:00</td>\n",
       "      <td>3</td>\n",
       "      <td>2011-07-16</td>\n",
       "      <td>2012-01-11</td>\n",
       "      <td>...</td>\n",
       "      <td>1</td>\n",
       "      <td>1</td>\n",
       "      <td>1</td>\n",
       "      <td>1</td>\n",
       "      <td>1</td>\n",
       "      <td>1</td>\n",
       "      <td>関東</td>\n",
       "      <td>千葉県</td>\n",
       "      <td>千葉</td>\n",
       "      <td>ba5e9b7453ca52ff711635a5d2e8102d</td>\n",
       "    </tr>\n",
       "    <tr>\n",
       "      <th>3</th>\n",
       "      <td>グルメ</td>\n",
       "      <td>グルメ</td>\n",
       "      <td>50</td>\n",
       "      <td>3000</td>\n",
       "      <td>1500</td>\n",
       "      <td>2011-07-09 12:00:00</td>\n",
       "      <td>2011-07-11 12:00:00</td>\n",
       "      <td>2</td>\n",
       "      <td>2011-07-12</td>\n",
       "      <td>2011-12-01</td>\n",
       "      <td>...</td>\n",
       "      <td>1</td>\n",
       "      <td>0</td>\n",
       "      <td>0</td>\n",
       "      <td>1</td>\n",
       "      <td>1</td>\n",
       "      <td>1</td>\n",
       "      <td>関東</td>\n",
       "      <td>千葉県</td>\n",
       "      <td>千葉</td>\n",
       "      <td>3e1ffbedca3569f9e8032d401e8cb4e6</td>\n",
       "    </tr>\n",
       "    <tr>\n",
       "      <th>4</th>\n",
       "      <td>グルメ</td>\n",
       "      <td>グルメ</td>\n",
       "      <td>50</td>\n",
       "      <td>2000</td>\n",
       "      <td>1000</td>\n",
       "      <td>2011-07-05 12:00:00</td>\n",
       "      <td>2011-07-06 12:00:00</td>\n",
       "      <td>1</td>\n",
       "      <td>2011-07-07</td>\n",
       "      <td>2011-12-30</td>\n",
       "      <td>...</td>\n",
       "      <td>1</td>\n",
       "      <td>0</td>\n",
       "      <td>0</td>\n",
       "      <td>1</td>\n",
       "      <td>1</td>\n",
       "      <td>0</td>\n",
       "      <td>関東</td>\n",
       "      <td>千葉県</td>\n",
       "      <td>千葉</td>\n",
       "      <td>782934b6c815b4030ea204eef7d4a734</td>\n",
       "    </tr>\n",
       "  </tbody>\n",
       "</table>\n",
       "<p>5 rows × 24 columns</p>\n",
       "</div>"
      ],
      "text/plain": [
       "  CAPSULE_TEXT GENRE_NAME  PRICE_RATE  CATALOG_PRICE  DISCOUNT_PRICE  \\\n",
       "0          グルメ        グルメ          50           3000            1500   \n",
       "1          グルメ        グルメ          51           2080            1000   \n",
       "2          グルメ        グルメ          50           7000            3500   \n",
       "3          グルメ        グルメ          50           3000            1500   \n",
       "4          グルメ        グルメ          50           2000            1000   \n",
       "\n",
       "              DISPFROM             DISPEND DISPPERIOD   VALIDFROM   VALIDEND  \\\n",
       "0  2011-07-08 12:00:00 2011-07-09 12:00:00          1  2011-07-10 2011-12-08   \n",
       "1  2011-07-01 12:00:00 2011-07-02 12:00:00          1  2011-07-03 2011-12-04   \n",
       "2  2011-07-12 12:00:00 2011-07-15 12:00:00          3  2011-07-16 2012-01-11   \n",
       "3  2011-07-09 12:00:00 2011-07-11 12:00:00          2  2011-07-12 2011-12-01   \n",
       "4  2011-07-05 12:00:00 2011-07-06 12:00:00          1  2011-07-07 2011-12-30   \n",
       "\n",
       "                 ...                USABLE_DATE_THU  USABLE_DATE_FRI  \\\n",
       "0                ...                              1                0   \n",
       "1                ...                              1                1   \n",
       "2                ...                              1                1   \n",
       "3                ...                              1                0   \n",
       "4                ...                              1                0   \n",
       "\n",
       "   USABLE_DATE_SAT  USABLE_DATE_SUN  USABLE_DATE_HOLIDAY  \\\n",
       "0                0                1                    1   \n",
       "1                1                1                    1   \n",
       "2                1                1                    1   \n",
       "3                0                1                    1   \n",
       "4                0                1                    1   \n",
       "\n",
       "   USABLE_DATE_BEFORE_HOLIDAY  large_area_name  ken_name  small_area_name  \\\n",
       "0                           0               関東       埼玉県               埼玉   \n",
       "1                           1               関東       千葉県               千葉   \n",
       "2                           1               関東       千葉県               千葉   \n",
       "3                           1               関東       千葉県               千葉   \n",
       "4                           0               関東       千葉県               千葉   \n",
       "\n",
       "                     COUPON_ID_hash  \n",
       "0  6b263844241eea98c5a97f1335ea82af  \n",
       "1  cc031f250e8bad1e24060263b9fc0ddd  \n",
       "2  ba5e9b7453ca52ff711635a5d2e8102d  \n",
       "3  3e1ffbedca3569f9e8032d401e8cb4e6  \n",
       "4  782934b6c815b4030ea204eef7d4a734  \n",
       "\n",
       "[5 rows x 24 columns]"
      ]
     },
     "execution_count": 19,
     "metadata": {},
     "output_type": "execute_result"
    }
   ],
   "source": [
    "trainlist.head()"
   ]
  },
  {
   "cell_type": "code",
   "execution_count": 20,
   "metadata": {
    "collapsed": false
   },
   "outputs": [
    {
     "data": {
      "text/html": [
       "<div>\n",
       "<table border=\"1\" class=\"dataframe\">\n",
       "  <thead>\n",
       "    <tr style=\"text-align: right;\">\n",
       "      <th></th>\n",
       "      <th>CAPSULE_TEXT</th>\n",
       "      <th>GENRE_NAME</th>\n",
       "      <th>PRICE_RATE</th>\n",
       "      <th>CATALOG_PRICE</th>\n",
       "      <th>DISCOUNT_PRICE</th>\n",
       "      <th>DISPFROM</th>\n",
       "      <th>DISPEND</th>\n",
       "      <th>DISPPERIOD</th>\n",
       "      <th>VALIDFROM</th>\n",
       "      <th>VALIDEND</th>\n",
       "      <th>...</th>\n",
       "      <th>USABLE_DATE_THU</th>\n",
       "      <th>USABLE_DATE_FRI</th>\n",
       "      <th>USABLE_DATE_SAT</th>\n",
       "      <th>USABLE_DATE_SUN</th>\n",
       "      <th>USABLE_DATE_HOLIDAY</th>\n",
       "      <th>USABLE_DATE_BEFORE_HOLIDAY</th>\n",
       "      <th>large_area_name</th>\n",
       "      <th>ken_name</th>\n",
       "      <th>small_area_name</th>\n",
       "      <th>COUPON_ID_hash</th>\n",
       "    </tr>\n",
       "  </thead>\n",
       "  <tbody>\n",
       "    <tr>\n",
       "      <th>0</th>\n",
       "      <td>グルメ</td>\n",
       "      <td>グルメ</td>\n",
       "      <td>52</td>\n",
       "      <td>5659</td>\n",
       "      <td>2690</td>\n",
       "      <td>2012-06-26 12:00:00</td>\n",
       "      <td>2012-06-30 12:00:00</td>\n",
       "      <td>4</td>\n",
       "      <td>2012-07-01</td>\n",
       "      <td>2012-10-27</td>\n",
       "      <td>...</td>\n",
       "      <td>1</td>\n",
       "      <td>1</td>\n",
       "      <td>1</td>\n",
       "      <td>1</td>\n",
       "      <td>1</td>\n",
       "      <td>1</td>\n",
       "      <td>関西</td>\n",
       "      <td>大阪府</td>\n",
       "      <td>ミナミ他</td>\n",
       "      <td>c76ea297ebd3a5a4d3bf9f75269f66fa</td>\n",
       "    </tr>\n",
       "    <tr>\n",
       "      <th>1</th>\n",
       "      <td>グルメ</td>\n",
       "      <td>グルメ</td>\n",
       "      <td>52</td>\n",
       "      <td>18000</td>\n",
       "      <td>8500</td>\n",
       "      <td>2012-06-27 12:00:00</td>\n",
       "      <td>2012-07-04 12:00:00</td>\n",
       "      <td>7</td>\n",
       "      <td>2012-07-05</td>\n",
       "      <td>2012-10-13</td>\n",
       "      <td>...</td>\n",
       "      <td>1</td>\n",
       "      <td>1</td>\n",
       "      <td>1</td>\n",
       "      <td>0</td>\n",
       "      <td>0</td>\n",
       "      <td>1</td>\n",
       "      <td>関東</td>\n",
       "      <td>東京都</td>\n",
       "      <td>銀座・新橋・東京・上野</td>\n",
       "      <td>dd74dc95ca294afa02db40a543ae1763</td>\n",
       "    </tr>\n",
       "    <tr>\n",
       "      <th>2</th>\n",
       "      <td>グルメ</td>\n",
       "      <td>グルメ</td>\n",
       "      <td>51</td>\n",
       "      <td>7200</td>\n",
       "      <td>3480</td>\n",
       "      <td>2012-06-28 12:00:00</td>\n",
       "      <td>2012-07-05 12:00:00</td>\n",
       "      <td>7</td>\n",
       "      <td>2012-07-06</td>\n",
       "      <td>2012-12-28</td>\n",
       "      <td>...</td>\n",
       "      <td>1</td>\n",
       "      <td>1</td>\n",
       "      <td>1</td>\n",
       "      <td>1</td>\n",
       "      <td>1</td>\n",
       "      <td>1</td>\n",
       "      <td>関東</td>\n",
       "      <td>神奈川県</td>\n",
       "      <td>横浜</td>\n",
       "      <td>c65b550cbef918796ad53b1d5b7165c1</td>\n",
       "    </tr>\n",
       "    <tr>\n",
       "      <th>3</th>\n",
       "      <td>グルメ</td>\n",
       "      <td>グルメ</td>\n",
       "      <td>50</td>\n",
       "      <td>3300</td>\n",
       "      <td>1650</td>\n",
       "      <td>2012-06-24 12:00:00</td>\n",
       "      <td>2012-06-29 12:00:00</td>\n",
       "      <td>5</td>\n",
       "      <td>2012-06-30</td>\n",
       "      <td>2012-10-31</td>\n",
       "      <td>...</td>\n",
       "      <td>1</td>\n",
       "      <td>2</td>\n",
       "      <td>2</td>\n",
       "      <td>1</td>\n",
       "      <td>1</td>\n",
       "      <td>2</td>\n",
       "      <td>関西</td>\n",
       "      <td>兵庫県</td>\n",
       "      <td>兵庫</td>\n",
       "      <td>f93dc6e223935d817e1237f8f73b56a2</td>\n",
       "    </tr>\n",
       "    <tr>\n",
       "      <th>4</th>\n",
       "      <td>グルメ</td>\n",
       "      <td>グルメ</td>\n",
       "      <td>56</td>\n",
       "      <td>3650</td>\n",
       "      <td>1600</td>\n",
       "      <td>2012-06-26 12:00:00</td>\n",
       "      <td>2012-07-03 12:00:00</td>\n",
       "      <td>7</td>\n",
       "      <td>2012-07-04</td>\n",
       "      <td>2012-11-10</td>\n",
       "      <td>...</td>\n",
       "      <td>1</td>\n",
       "      <td>1</td>\n",
       "      <td>1</td>\n",
       "      <td>1</td>\n",
       "      <td>1</td>\n",
       "      <td>1</td>\n",
       "      <td>東海</td>\n",
       "      <td>愛知県</td>\n",
       "      <td>愛知</td>\n",
       "      <td>86c64391318f1d751647bf8e1882cf1d</td>\n",
       "    </tr>\n",
       "  </tbody>\n",
       "</table>\n",
       "<p>5 rows × 24 columns</p>\n",
       "</div>"
      ],
      "text/plain": [
       "  CAPSULE_TEXT GENRE_NAME  PRICE_RATE  CATALOG_PRICE  DISCOUNT_PRICE  \\\n",
       "0          グルメ        グルメ          52           5659            2690   \n",
       "1          グルメ        グルメ          52          18000            8500   \n",
       "2          グルメ        グルメ          51           7200            3480   \n",
       "3          グルメ        グルメ          50           3300            1650   \n",
       "4          グルメ        グルメ          56           3650            1600   \n",
       "\n",
       "              DISPFROM             DISPEND DISPPERIOD   VALIDFROM   VALIDEND  \\\n",
       "0  2012-06-26 12:00:00 2012-06-30 12:00:00          4  2012-07-01 2012-10-27   \n",
       "1  2012-06-27 12:00:00 2012-07-04 12:00:00          7  2012-07-05 2012-10-13   \n",
       "2  2012-06-28 12:00:00 2012-07-05 12:00:00          7  2012-07-06 2012-12-28   \n",
       "3  2012-06-24 12:00:00 2012-06-29 12:00:00          5  2012-06-30 2012-10-31   \n",
       "4  2012-06-26 12:00:00 2012-07-03 12:00:00          7  2012-07-04 2012-11-10   \n",
       "\n",
       "                 ...                USABLE_DATE_THU  USABLE_DATE_FRI  \\\n",
       "0                ...                              1                1   \n",
       "1                ...                              1                1   \n",
       "2                ...                              1                1   \n",
       "3                ...                              1                2   \n",
       "4                ...                              1                1   \n",
       "\n",
       "   USABLE_DATE_SAT  USABLE_DATE_SUN  USABLE_DATE_HOLIDAY  \\\n",
       "0                1                1                    1   \n",
       "1                1                0                    0   \n",
       "2                1                1                    1   \n",
       "3                2                1                    1   \n",
       "4                1                1                    1   \n",
       "\n",
       "   USABLE_DATE_BEFORE_HOLIDAY  large_area_name  ken_name  small_area_name  \\\n",
       "0                           1               関西       大阪府             ミナミ他   \n",
       "1                           1               関東       東京都      銀座・新橋・東京・上野   \n",
       "2                           1               関東      神奈川県               横浜   \n",
       "3                           2               関西       兵庫県               兵庫   \n",
       "4                           1               東海       愛知県               愛知   \n",
       "\n",
       "                     COUPON_ID_hash  \n",
       "0  c76ea297ebd3a5a4d3bf9f75269f66fa  \n",
       "1  dd74dc95ca294afa02db40a543ae1763  \n",
       "2  c65b550cbef918796ad53b1d5b7165c1  \n",
       "3  f93dc6e223935d817e1237f8f73b56a2  \n",
       "4  86c64391318f1d751647bf8e1882cf1d  \n",
       "\n",
       "[5 rows x 24 columns]"
      ]
     },
     "execution_count": 20,
     "metadata": {},
     "output_type": "execute_result"
    }
   ],
   "source": [
    "testlist.head()"
   ]
  },
  {
   "cell_type": "code",
   "execution_count": 21,
   "metadata": {
    "collapsed": false
   },
   "outputs": [],
   "source": [
    "def getmissingnums(inpdf):\n",
    "    c=inpdf.columns\n",
    "    for col in c:\n",
    "        print col\n",
    "        print inpdf[col].isnull().sum()"
   ]
  },
  {
   "cell_type": "code",
   "execution_count": 22,
   "metadata": {
    "collapsed": false
   },
   "outputs": [
    {
     "data": {
      "text/html": [
       "<div>\n",
       "<table border=\"1\" class=\"dataframe\">\n",
       "  <thead>\n",
       "    <tr style=\"text-align: right;\">\n",
       "      <th></th>\n",
       "      <th>CAPSULE_TEXT</th>\n",
       "      <th>GENRE_NAME</th>\n",
       "      <th>PRICE_RATE</th>\n",
       "      <th>CATALOG_PRICE</th>\n",
       "      <th>DISCOUNT_PRICE</th>\n",
       "      <th>DISPFROM</th>\n",
       "      <th>DISPEND</th>\n",
       "      <th>DISPPERIOD</th>\n",
       "      <th>VALIDFROM</th>\n",
       "      <th>VALIDEND</th>\n",
       "      <th>...</th>\n",
       "      <th>USABLE_DATE_THU</th>\n",
       "      <th>USABLE_DATE_FRI</th>\n",
       "      <th>USABLE_DATE_SAT</th>\n",
       "      <th>USABLE_DATE_SUN</th>\n",
       "      <th>USABLE_DATE_HOLIDAY</th>\n",
       "      <th>USABLE_DATE_BEFORE_HOLIDAY</th>\n",
       "      <th>large_area_name</th>\n",
       "      <th>ken_name</th>\n",
       "      <th>small_area_name</th>\n",
       "      <th>COUPON_ID_hash</th>\n",
       "    </tr>\n",
       "  </thead>\n",
       "  <tbody>\n",
       "    <tr>\n",
       "      <th>327</th>\n",
       "      <td>宅配</td>\n",
       "      <td>宅配</td>\n",
       "      <td>50</td>\n",
       "      <td>3990</td>\n",
       "      <td>1980</td>\n",
       "      <td>2011-07-04 12:00:00</td>\n",
       "      <td>2011-07-05 12:00:00</td>\n",
       "      <td>1</td>\n",
       "      <td>NaN</td>\n",
       "      <td>NaT</td>\n",
       "      <td>...</td>\n",
       "      <td>NaN</td>\n",
       "      <td>NaN</td>\n",
       "      <td>NaN</td>\n",
       "      <td>NaN</td>\n",
       "      <td>NaN</td>\n",
       "      <td>NaN</td>\n",
       "      <td>東北</td>\n",
       "      <td>宮城県</td>\n",
       "      <td>宮城</td>\n",
       "      <td>f64bb6a708c4dffe8cd837964169fc99</td>\n",
       "    </tr>\n",
       "    <tr>\n",
       "      <th>346</th>\n",
       "      <td>宅配</td>\n",
       "      <td>宅配</td>\n",
       "      <td>50</td>\n",
       "      <td>6900</td>\n",
       "      <td>3450</td>\n",
       "      <td>2011-07-04 12:00:00</td>\n",
       "      <td>2011-07-05 12:00:00</td>\n",
       "      <td>1</td>\n",
       "      <td>NaN</td>\n",
       "      <td>NaT</td>\n",
       "      <td>...</td>\n",
       "      <td>NaN</td>\n",
       "      <td>NaN</td>\n",
       "      <td>NaN</td>\n",
       "      <td>NaN</td>\n",
       "      <td>NaN</td>\n",
       "      <td>NaN</td>\n",
       "      <td>東北</td>\n",
       "      <td>山形県</td>\n",
       "      <td>山形</td>\n",
       "      <td>247de01d749a63d72bf4f18cdf872d6c</td>\n",
       "    </tr>\n",
       "  </tbody>\n",
       "</table>\n",
       "<p>2 rows × 24 columns</p>\n",
       "</div>"
      ],
      "text/plain": [
       "    CAPSULE_TEXT GENRE_NAME  PRICE_RATE  CATALOG_PRICE  DISCOUNT_PRICE  \\\n",
       "327           宅配         宅配          50           3990            1980   \n",
       "346           宅配         宅配          50           6900            3450   \n",
       "\n",
       "                DISPFROM             DISPEND DISPPERIOD VALIDFROM VALIDEND  \\\n",
       "327  2011-07-04 12:00:00 2011-07-05 12:00:00          1       NaN      NaT   \n",
       "346  2011-07-04 12:00:00 2011-07-05 12:00:00          1       NaN      NaT   \n",
       "\n",
       "                   ...                USABLE_DATE_THU  USABLE_DATE_FRI  \\\n",
       "327                ...                            NaN              NaN   \n",
       "346                ...                            NaN              NaN   \n",
       "\n",
       "     USABLE_DATE_SAT  USABLE_DATE_SUN  USABLE_DATE_HOLIDAY  \\\n",
       "327              NaN              NaN                  NaN   \n",
       "346              NaN              NaN                  NaN   \n",
       "\n",
       "     USABLE_DATE_BEFORE_HOLIDAY  large_area_name  ken_name  small_area_name  \\\n",
       "327                         NaN               東北       宮城県               宮城   \n",
       "346                         NaN               東北       山形県               山形   \n",
       "\n",
       "                       COUPON_ID_hash  \n",
       "327  f64bb6a708c4dffe8cd837964169fc99  \n",
       "346  247de01d749a63d72bf4f18cdf872d6c  \n",
       "\n",
       "[2 rows x 24 columns]"
      ]
     },
     "execution_count": 22,
     "metadata": {},
     "output_type": "execute_result"
    }
   ],
   "source": [
    "trainlist[trainlist.USABLE_DATE_FRI.isnull()].head(2)"
   ]
  },
  {
   "cell_type": "code",
   "execution_count": 23,
   "metadata": {
    "collapsed": false
   },
   "outputs": [
    {
     "data": {
      "text/plain": [
       "<matplotlib.axes._subplots.AxesSubplot at 0x7f5b5b1c4cd0>"
      ]
     },
     "execution_count": 23,
     "metadata": {},
     "output_type": "execute_result"
    },
    {
     "data": {
      "image/png": "[encoded data removed]",
      "text/plain": [
       "<matplotlib.figure.Figure at 0x7f5b5b2e3610>"
      ]
     },
     "metadata": {},
     "output_type": "display_data"
    }
   ],
   "source": [
    "trainlist.PRICE_RATE.plot(kind='hist')"
   ]
  },
  {
   "cell_type": "code",
   "execution_count": 24,
   "metadata": {
    "collapsed": false
   },
   "outputs": [
    {
     "name": "stdout",
     "output_type": "stream",
     "text": [
      "19413\n",
      "310\n"
     ]
    }
   ],
   "source": [
    "print trainlist.COUPON_ID_hash.count()\n",
    "print testlist.COUPON_ID_hash.count()"
   ]
  },
  {
   "cell_type": "code",
   "execution_count": 25,
   "metadata": {
    "collapsed": false
   },
   "outputs": [
    {
     "name": "stdout",
     "output_type": "stream",
     "text": [
      "CAPSULE_TEXT\n",
      "0\n",
      "GENRE_NAME\n",
      "0\n",
      "PRICE_RATE\n",
      "0\n",
      "CATALOG_PRICE\n",
      "0\n",
      "DISCOUNT_PRICE\n",
      "0\n",
      "DISPFROM\n",
      "0\n",
      "DISPEND\n",
      "0\n",
      "DISPPERIOD\n",
      "0\n",
      "VALIDFROM\n",
      "6147\n",
      "VALIDEND\n",
      "6147\n",
      "VALIDPERIOD\n",
      "0\n",
      "USABLE_DATE_MON\n",
      "7005\n",
      "USABLE_DATE_TUE\n",
      "7005\n",
      "USABLE_DATE_WED\n",
      "7005\n",
      "USABLE_DATE_THU\n",
      "7005\n",
      "USABLE_DATE_FRI\n",
      "7005\n",
      "USABLE_DATE_SAT\n",
      "7005\n",
      "USABLE_DATE_SUN\n",
      "7005\n",
      "USABLE_DATE_HOLIDAY\n",
      "7005\n",
      "USABLE_DATE_BEFORE_HOLIDAY\n",
      "7005\n",
      "large_area_name\n",
      "0\n",
      "ken_name\n",
      "0\n",
      "small_area_name\n",
      "0\n",
      "COUPON_ID_hash\n",
      "0\n"
     ]
    }
   ],
   "source": [
    "getmissingnums(trainlist)"
   ]
  },
  {
   "cell_type": "code",
   "execution_count": 26,
   "metadata": {
    "collapsed": false
   },
   "outputs": [
    {
     "name": "stdout",
     "output_type": "stream",
     "text": [
      "CAPSULE_TEXT\n",
      "0\n",
      "GENRE_NAME\n",
      "0\n",
      "PRICE_RATE\n",
      "0\n",
      "CATALOG_PRICE\n",
      "0\n",
      "DISCOUNT_PRICE\n",
      "0\n",
      "DISPFROM\n",
      "0\n",
      "DISPEND\n",
      "0\n",
      "DISPPERIOD\n",
      "0\n",
      "VALIDFROM\n",
      "96\n",
      "VALIDEND\n",
      "96\n",
      "VALIDPERIOD\n",
      "0\n",
      "USABLE_DATE_MON\n",
      "101\n",
      "USABLE_DATE_TUE\n",
      "101\n",
      "USABLE_DATE_WED\n",
      "101\n",
      "USABLE_DATE_THU\n",
      "101\n",
      "USABLE_DATE_FRI\n",
      "101\n",
      "USABLE_DATE_SAT\n",
      "101\n",
      "USABLE_DATE_SUN\n",
      "101\n",
      "USABLE_DATE_HOLIDAY\n",
      "101\n",
      "USABLE_DATE_BEFORE_HOLIDAY\n",
      "101\n",
      "large_area_name\n",
      "0\n",
      "ken_name\n",
      "0\n",
      "small_area_name\n",
      "0\n",
      "COUPON_ID_hash\n",
      "0\n"
     ]
    }
   ],
   "source": [
    "getmissingnums(testlist)"
   ]
  },
  {
   "cell_type": "code",
   "execution_count": 27,
   "metadata": {
    "collapsed": false
   },
   "outputs": [
    {
     "data": {
      "text/plain": [
       "CAPSULE_TEXT                          object\n",
       "GENRE_NAME                            object\n",
       "PRICE_RATE                             int64\n",
       "CATALOG_PRICE                          int64\n",
       "DISCOUNT_PRICE                         int64\n",
       "DISPFROM                              object\n",
       "DISPEND                       datetime64[ns]\n",
       "DISPPERIOD                            object\n",
       "VALIDFROM                             object\n",
       "VALIDEND                      datetime64[ns]\n",
       "VALIDPERIOD                           object\n",
       "USABLE_DATE_MON                      float64\n",
       "USABLE_DATE_TUE                      float64\n",
       "USABLE_DATE_WED                      float64\n",
       "USABLE_DATE_THU                      float64\n",
       "USABLE_DATE_FRI                      float64\n",
       "USABLE_DATE_SAT                      float64\n",
       "USABLE_DATE_SUN                      float64\n",
       "USABLE_DATE_HOLIDAY                  float64\n",
       "USABLE_DATE_BEFORE_HOLIDAY           float64\n",
       "large_area_name                       object\n",
       "ken_name                              object\n",
       "small_area_name                       object\n",
       "COUPON_ID_hash                        object\n",
       "dtype: object"
      ]
     },
     "execution_count": 27,
     "metadata": {},
     "output_type": "execute_result"
    }
   ],
   "source": [
    "trainlist.dtypes"
   ]
  },
  {
   "cell_type": "code",
   "execution_count": 15,
   "metadata": {
    "collapsed": false
   },
   "outputs": [
    {
     "data": {
      "text/html": [
       "<div>\n",
       "<table border=\"1\" class=\"dataframe\">\n",
       "  <thead>\n",
       "    <tr style=\"text-align: right;\">\n",
       "      <th></th>\n",
       "      <th>CAPSULE_TEXT</th>\n",
       "      <th>GENRE_NAME</th>\n",
       "      <th>PRICE_RATE</th>\n",
       "      <th>CATALOG_PRICE</th>\n",
       "      <th>DISCOUNT_PRICE</th>\n",
       "      <th>DISPFROM</th>\n",
       "      <th>DISPEND</th>\n",
       "      <th>DISPPERIOD</th>\n",
       "      <th>VALIDFROM</th>\n",
       "      <th>VALIDEND</th>\n",
       "      <th>...</th>\n",
       "      <th>USABLE_DATE_FRI</th>\n",
       "      <th>USABLE_DATE_SAT</th>\n",
       "      <th>USABLE_DATE_SUN</th>\n",
       "      <th>USABLE_DATE_HOLIDAY</th>\n",
       "      <th>USABLE_DATE_BEFORE_HOLIDAY</th>\n",
       "      <th>large_area_name</th>\n",
       "      <th>ken_name</th>\n",
       "      <th>small_area_name</th>\n",
       "      <th>COUPON_ID_hash</th>\n",
       "      <th>dispstyear</th>\n",
       "    </tr>\n",
       "  </thead>\n",
       "  <tbody>\n",
       "    <tr>\n",
       "      <th>0</th>\n",
       "      <td>グルメ</td>\n",
       "      <td>グルメ</td>\n",
       "      <td>50</td>\n",
       "      <td>3000</td>\n",
       "      <td>1500</td>\n",
       "      <td>2011-07-08 12:00:00</td>\n",
       "      <td>2011-07-09 12:00:00</td>\n",
       "      <td>1</td>\n",
       "      <td>2011-07-10</td>\n",
       "      <td>2011-12-08</td>\n",
       "      <td>...</td>\n",
       "      <td>0</td>\n",
       "      <td>0</td>\n",
       "      <td>1</td>\n",
       "      <td>1</td>\n",
       "      <td>0</td>\n",
       "      <td>関東</td>\n",
       "      <td>埼玉県</td>\n",
       "      <td>埼玉</td>\n",
       "      <td>6b263844241eea98c5a97f1335ea82af</td>\n",
       "      <td>2011</td>\n",
       "    </tr>\n",
       "    <tr>\n",
       "      <th>1</th>\n",
       "      <td>グルメ</td>\n",
       "      <td>グルメ</td>\n",
       "      <td>51</td>\n",
       "      <td>2080</td>\n",
       "      <td>1000</td>\n",
       "      <td>2011-07-01 12:00:00</td>\n",
       "      <td>2011-07-02 12:00:00</td>\n",
       "      <td>1</td>\n",
       "      <td>2011-07-03</td>\n",
       "      <td>2011-12-04</td>\n",
       "      <td>...</td>\n",
       "      <td>1</td>\n",
       "      <td>1</td>\n",
       "      <td>1</td>\n",
       "      <td>1</td>\n",
       "      <td>1</td>\n",
       "      <td>関東</td>\n",
       "      <td>千葉県</td>\n",
       "      <td>千葉</td>\n",
       "      <td>cc031f250e8bad1e24060263b9fc0ddd</td>\n",
       "      <td>2011</td>\n",
       "    </tr>\n",
       "  </tbody>\n",
       "</table>\n",
       "<p>2 rows × 25 columns</p>\n",
       "</div>"
      ],
      "text/plain": [
       "  CAPSULE_TEXT GENRE_NAME  PRICE_RATE  CATALOG_PRICE  DISCOUNT_PRICE  \\\n",
       "0          グルメ        グルメ          50           3000            1500   \n",
       "1          グルメ        グルメ          51           2080            1000   \n",
       "\n",
       "              DISPFROM             DISPEND DISPPERIOD  VALIDFROM   VALIDEND  \\\n",
       "0  2011-07-08 12:00:00 2011-07-09 12:00:00          1 2011-07-10 2011-12-08   \n",
       "1  2011-07-01 12:00:00 2011-07-02 12:00:00          1 2011-07-03 2011-12-04   \n",
       "\n",
       "      ...      USABLE_DATE_FRI  USABLE_DATE_SAT  USABLE_DATE_SUN  \\\n",
       "0     ...                    0                0                1   \n",
       "1     ...                    1                1                1   \n",
       "\n",
       "   USABLE_DATE_HOLIDAY  USABLE_DATE_BEFORE_HOLIDAY  large_area_name  ken_name  \\\n",
       "0                    1                           0               関東       埼玉県   \n",
       "1                    1                           1               関東       千葉県   \n",
       "\n",
       "   small_area_name                    COUPON_ID_hash  dispstyear  \n",
       "0               埼玉  6b263844241eea98c5a97f1335ea82af        2011  \n",
       "1               千葉  cc031f250e8bad1e24060263b9fc0ddd        2011  \n",
       "\n",
       "[2 rows x 25 columns]"
      ]
     },
     "execution_count": 15,
     "metadata": {},
     "output_type": "execute_result"
    }
   ],
   "source": [
    "trainlist.head(2)"
   ]
  },
  {
   "cell_type": "code",
   "execution_count": null,
   "metadata": {
    "collapsed": true
   },
   "outputs": [],
   "source": [
    "trainlist"
   ]
  },
  {
   "cell_type": "code",
   "execution_count": 31,
   "metadata": {
    "collapsed": false
   },
   "outputs": [],
   "source": [
    "def getYear(inpStr):\n",
    "    return datetime.datetime.strptime(inpStr,'%Y-%m-%d %H:%M:%S').strftime('%Y')\n",
    "def getYear2(inpStr):\n",
    "    try:\n",
    "        return datetime.datetime.strptime(str(inpStr),'%Y-%m-%d').strftime('%Y')\n",
    "    except:\n",
    "        return datetime.datetime.strptime('1900-01-01','%Y-%m-%d').strftime('%Y')\n",
    "\n",
    "trainlist['dispstyear']=trainlist.DISPFROM.apply(getYear)\n",
    "trainlist['dispendyear']=trainlist.DISPEND.apply(lambda x: x.year)\n",
    "trainlist['valstyear']=trainlist.VALIDFROM.apply(getYear2)\n",
    "trainlist['valendyear']=trainlist.VALIDEND.apply(getYear2)"
   ]
  },
  {
   "cell_type": "code",
   "execution_count": 35,
   "metadata": {
    "collapsed": false
   },
   "outputs": [
    {
     "data": {
      "text/plain": [
       "<matplotlib.axes._subplots.AxesSubplot at 0x7f5b5ad60910>"
      ]
     },
     "execution_count": 35,
     "metadata": {},
     "output_type": "execute_result"
    },
    {
     "data": {
      "image/png": "[encoded data removed]",
      "text/plain": [
       "<matplotlib.figure.Figure at 0x7f5b5ac5e290>"
      ]
     },
     "metadata": {},
     "output_type": "display_data"
    }
   ],
   "source": [
    "trainlist.groupby('dispstyear').dispstyear.count().plot(kind='bar')"
   ]
  },
  {
   "cell_type": "code",
   "execution_count": 36,
   "metadata": {
    "collapsed": false
   },
   "outputs": [
    {
     "data": {
      "text/plain": [
       "<matplotlib.axes._subplots.AxesSubplot at 0x7f5b5ad356d0>"
      ]
     },
     "execution_count": 36,
     "metadata": {},
     "output_type": "execute_result"
    },
    {
     "data": {
      "image/png": "[encoded data removed]",
      "text/plain": [
       "<matplotlib.figure.Figure at 0x7f5b5ab75150>"
      ]
     },
     "metadata": {},
     "output_type": "display_data"
    }
   ],
   "source": [
    "trainlist.groupby('dispendyear').dispendyear.count().plot(kind='bar')"
   ]
  },
  {
   "cell_type": "code",
   "execution_count": 37,
   "metadata": {
    "collapsed": false
   },
   "outputs": [
    {
     "data": {
      "text/plain": [
       "<matplotlib.axes._subplots.AxesSubplot at 0x7f5b5a62a590>"
      ]
     },
     "execution_count": 37,
     "metadata": {},
     "output_type": "execute_result"
    },
    {
     "data": {
      "image/png": "[encoded data removed]",
      "text/plain": [
       "<matplotlib.figure.Figure at 0x7f5b5ab75210>"
      ]
     },
     "metadata": {},
     "output_type": "display_data"
    }
   ],
   "source": [
    "trainlist.groupby('valstyear').valstyear.count().plot(kind='bar')"
   ]
  },
  {
   "cell_type": "code",
   "execution_count": 38,
   "metadata": {
    "collapsed": false
   },
   "outputs": [
    {
     "data": {
      "text/plain": [
       "<matplotlib.axes._subplots.AxesSubplot at 0x7f5b5a849710>"
      ]
     },
     "execution_count": 38,
     "metadata": {},
     "output_type": "execute_result"
    },
    {
     "data": {
      "image/png": "[encoded data removed]",
      "text/plain": [
       "<matplotlib.figure.Figure at 0x7f5b5a9b3850>"
      ]
     },
     "metadata": {},
     "output_type": "display_data"
    }
   ],
   "source": [
    "trainlist.groupby('valendyear').valendyear.count().plot(kind='bar')"
   ]
  },
  {
   "cell_type": "code",
   "execution_count": 78,
   "metadata": {
    "collapsed": false
   },
   "outputs": [
    {
     "data": {
      "text/plain": [
       "datetime.datetime(2015, 4, 1, 0, 0, 5)"
      ]
     },
     "execution_count": 78,
     "metadata": {},
     "output_type": "execute_result"
    }
   ],
   "source": [
    "datetime.datetime.strptime('2015-04-01 00:00:05','%Y-%m-%d %H:%M:%S')"
   ]
  },
  {
   "cell_type": "code",
   "execution_count": 37,
   "metadata": {
    "collapsed": false
   },
   "outputs": [
    {
     "data": {
      "text/plain": [
       "datetime.datetime(2015, 9, 4, 6, 30, 6, 198322)"
      ]
     },
     "execution_count": 37,
     "metadata": {},
     "output_type": "execute_result"
    }
   ],
   "source": [
    "datetime.datetime.now()"
   ]
  },
  {
   "cell_type": "code",
   "execution_count": 63,
   "metadata": {
    "collapsed": false
   },
   "outputs": [],
   "source": [
    "def getMonths(inpStr):\n",
    "    inpdate=datetime.datetime.strptime(inpStr,'%Y-%m-%d %H:%M:%S')\n",
    "    nowdate=datetime.datetime.now()\n",
    "    delta=nowdate-inpdate\n",
    "    return int(delta.days*1.0/90)\n",
    "usersample['months']=usersample.REG_DATE.apply(getMonths)"
   ]
  },
  {
   "cell_type": "code",
   "execution_count": 64,
   "metadata": {
    "collapsed": false
   },
   "outputs": [
    {
     "data": {
      "text/plain": [
       "<matplotlib.axes._subplots.AxesSubplot at 0x7f80f615d2d0>"
      ]
     },
     "execution_count": 64,
     "metadata": {},
     "output_type": "execute_result"
    },
    {
     "data": {
      "image/png": "[encoded data removed]",
      "text/plain": [
       "<matplotlib.figure.Figure at 0x7f80f5e2a350>"
      ]
     },
     "metadata": {},
     "output_type": "display_data"
    }
   ],
   "source": [
    "usersample.groupby('year').year.count().plot(kind='bar')"
   ]
  },
  {
   "cell_type": "code",
   "execution_count": 65,
   "metadata": {
    "collapsed": false
   },
   "outputs": [
    {
     "data": {
      "text/plain": [
       "<matplotlib.axes._subplots.AxesSubplot at 0x7f80f6231690>"
      ]
     },
     "execution_count": 65,
     "metadata": {},
     "output_type": "execute_result"
    },
    {
     "data": {
      "image/png": "[encoded data removed]",
      "text/plain": [
       "<matplotlib.figure.Figure at 0x7f80f5d57ed0>"
      ]
     },
     "metadata": {},
     "output_type": "display_data"
    }
   ],
   "source": [
    "usersample.groupby('months').year.count().plot(kind='bar')"
   ]
  },
  {
   "cell_type": "code",
   "execution_count": 13,
   "metadata": {
    "collapsed": false
   },
   "outputs": [
    {
     "data": {
      "text/plain": [
       "<matplotlib.axes._subplots.AxesSubplot at 0x7f80f9216110>"
      ]
     },
     "execution_count": 13,
     "metadata": {},
     "output_type": "execute_result"
    },
    {
     "data": {
      "image/png": "[encoded data removed]",
      "text/plain": [
       "<matplotlib.figure.Figure at 0x7f80f9efacd0>"
      ]
     },
     "metadata": {},
     "output_type": "display_data"
    }
   ],
   "source": [
    "usersample.AGE.plot(kind='hist')\n",
    "usersample.groupby('PREF_NAME').PREF_NAME.count().plot(kind='bar')"
   ]
  },
  {
   "cell_type": "code",
   "execution_count": 15,
   "metadata": {
    "collapsed": false
   },
   "outputs": [
    {
     "data": {
      "text/plain": [
       "<matplotlib.axes._subplots.AxesSubplot at 0x7f80fd0f8090>"
      ]
     },
     "execution_count": 15,
     "metadata": {},
     "output_type": "execute_result"
    },
    {
     "data": {
      "image/png": "[encoded data removed]",
      "text/plain": [
       "<matplotlib.figure.Figure at 0x7f80f994b0d0>"
      ]
     },
     "metadata": {},
     "output_type": "display_data"
    }
   ],
   "source": [
    "usersample.groupby('SEX_ID').SEX_ID.count().plot(kind='bar')"
   ]
  },
  {
   "cell_type": "code",
   "execution_count": null,
   "metadata": {
    "collapsed": true
   },
   "outputs": [],
   "source": []
  }
 ],
 "metadata": {
  "kernelspec": {
   "display_name": "Python 2",
   "language": "python",
   "name": "python2"
  },
  "language_info": {
   "codemirror_mode": {
    "name": "ipython",
    "version": 2
   },
   "file_extension": ".py",
   "mimetype": "text/x-python",
   "name": "python",
   "nbconvert_exporter": "python",
   "pygments_lexer": "ipython2",
   "version": "2.7.10"
  }
 },
 "nbformat": 4,
 "nbformat_minor": 0
}
