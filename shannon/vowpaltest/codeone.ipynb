{
 "metadata": {
  "name": "",
  "signature": "sha256:9070852cf2ddc808ddab2edaf85edb0b612239be92155af620318a9ac587c2a8"
 },
 "nbformat": 3,
 "nbformat_minor": 0,
 "worksheets": [
  {
   "cells": [
    {
     "cell_type": "code",
     "collapsed": false,
     "input": [
      "import pandas as pd"
     ],
     "language": "python",
     "metadata": {},
     "outputs": [],
     "prompt_number": 1
    },
    {
     "cell_type": "code",
     "collapsed": false,
     "input": [
      "mycsv=pd.read_csv('/home/sunil/data/carbadbuydata/training.csv',nrows=10)"
     ],
     "language": "python",
     "metadata": {},
     "outputs": [],
     "prompt_number": 4
    },
    {
     "cell_type": "code",
     "collapsed": false,
     "input": [
      "mycsv.ix[1,:]"
     ],
     "language": "python",
     "metadata": {},
     "outputs": [
      {
       "metadata": {},
       "output_type": "pyout",
       "prompt_number": 18,
       "text": [
        "RefId                                                  2\n",
        "IsBadBuy                                               0\n",
        "PurchDate                                      12/7/2009\n",
        "Auction                                            ADESA\n",
        "VehYear                                             2004\n",
        "VehicleAge                                             5\n",
        "Make                                               DODGE\n",
        "Model                                1500 RAM PICKUP 2WD\n",
        "Trim                                                  ST\n",
        "SubModel                               QUAD CAB 4.7L SLT\n",
        "Color                                              WHITE\n",
        "Transmission                                        AUTO\n",
        "WheelTypeID                                            1\n",
        "WheelType                                          Alloy\n",
        "VehOdo                                             93593\n",
        "Nationality                                     AMERICAN\n",
        "Size                                         LARGE TRUCK\n",
        "TopThreeAmericanName                            CHRYSLER\n",
        "MMRAcquisitionAuctionAveragePrice                   6854\n",
        "MMRAcquisitionAuctionCleanPrice                     8383\n",
        "MMRAcquisitionRetailAveragePrice                   10897\n",
        "MMRAcquisitonRetailCleanPrice                      12572\n",
        "MMRCurrentAuctionAveragePrice                       7456\n",
        "MMRCurrentAuctionCleanPrice                         9222\n",
        "MMRCurrentRetailAveragePrice                       11374\n",
        "MMRCurrentRetailCleanPrice                         12791\n",
        "PRIMEUNIT                                            NaN\n",
        "AUCGUART                                             NaN\n",
        "BYRNO                                              19638\n",
        "VNZIP1                                             33619\n",
        "VNST                                                  FL\n",
        "VehBCost                                            7600\n",
        "IsOnlineSale                                           0\n",
        "WarrantyCost                                        1053\n",
        "Name: 1, dtype: object"
       ]
      }
     ],
     "prompt_number": 18
    },
    {
     "cell_type": "code",
     "collapsed": false,
     "input": [],
     "language": "python",
     "metadata": {},
     "outputs": []
    }
   ],
   "metadata": {}
  }
 ]
}