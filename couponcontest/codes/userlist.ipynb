{
 "cells": [
  {
   "cell_type": "code",
   "execution_count": 25,
   "metadata": {
    "collapsed": true
   },
   "outputs": [],
   "source": [
    "import pandas as pd\n",
    "import numpy as np\n",
    "%matplotlib inline\n",
    "import datetime"
   ]
  },
  {
   "cell_type": "code",
   "execution_count": 3,
   "metadata": {
    "collapsed": true
   },
   "outputs": [],
   "source": [
    "dataloc='/var/lib/HPCCSystems/mydropzone/couponcontest/'\n",
    "usersamplefile='user_list.csv'"
   ]
  },
  {
   "cell_type": "code",
   "execution_count": 17,
   "metadata": {
    "collapsed": false
   },
   "outputs": [],
   "source": [
    "#help(pd.read_csv)"
   ]
  },
  {
   "cell_type": "code",
   "execution_count": 18,
   "metadata": {
    "collapsed": false
   },
   "outputs": [],
   "source": [
    "usersample=pd.read_csv(dataloc+usersamplefile,parse_dates=[1,4])"
   ]
  },
  {
   "cell_type": "code",
   "execution_count": 19,
   "metadata": {
    "collapsed": false
   },
   "outputs": [
    {
     "data": {
      "text/html": [
       "<div>\n",
       "<table border=\"1\" class=\"dataframe\">\n",
       "  <thead>\n",
       "    <tr style=\"text-align: right;\">\n",
       "      <th></th>\n",
       "      <th>REG_DATE</th>\n",
       "      <th>SEX_ID</th>\n",
       "      <th>AGE</th>\n",
       "      <th>WITHDRAW_DATE</th>\n",
       "      <th>PREF_NAME</th>\n",
       "      <th>USER_ID_hash</th>\n",
       "    </tr>\n",
       "  </thead>\n",
       "  <tbody>\n",
       "    <tr>\n",
       "      <th>0</th>\n",
       "      <td>2012-03-28 14:14:18</td>\n",
       "      <td>f</td>\n",
       "      <td>25</td>\n",
       "      <td>NaN</td>\n",
       "      <td>nan</td>\n",
       "      <td>d9dca3cb44bab12ba313eaa681f663eb</td>\n",
       "    </tr>\n",
       "    <tr>\n",
       "      <th>1</th>\n",
       "      <td>2011-05-18 00:41:48</td>\n",
       "      <td>f</td>\n",
       "      <td>34</td>\n",
       "      <td>NaN</td>\n",
       "      <td>東京都</td>\n",
       "      <td>560574a339f1b25e57b0221e486907ed</td>\n",
       "    </tr>\n",
       "    <tr>\n",
       "      <th>2</th>\n",
       "      <td>2011-06-13 16:36:58</td>\n",
       "      <td>m</td>\n",
       "      <td>41</td>\n",
       "      <td>NaN</td>\n",
       "      <td>愛知県</td>\n",
       "      <td>e66ae91b978b3229f8fd858c80615b73</td>\n",
       "    </tr>\n",
       "    <tr>\n",
       "      <th>3</th>\n",
       "      <td>2012-02-08 12:56:15</td>\n",
       "      <td>m</td>\n",
       "      <td>25</td>\n",
       "      <td>NaN</td>\n",
       "      <td>nan</td>\n",
       "      <td>43fc18f32eafb05713ec02935e2c2825</td>\n",
       "    </tr>\n",
       "    <tr>\n",
       "      <th>4</th>\n",
       "      <td>2011-05-22 23:43:56</td>\n",
       "      <td>m</td>\n",
       "      <td>62</td>\n",
       "      <td>NaN</td>\n",
       "      <td>神奈川県</td>\n",
       "      <td>dc6df8aa860f8db0d710ce9d4839840f</td>\n",
       "    </tr>\n",
       "  </tbody>\n",
       "</table>\n",
       "</div>"
      ],
      "text/plain": [
       "              REG_DATE SEX_ID  AGE WITHDRAW_DATE PREF_NAME  \\\n",
       "0  2012-03-28 14:14:18      f   25           NaN       nan   \n",
       "1  2011-05-18 00:41:48      f   34           NaN       東京都   \n",
       "2  2011-06-13 16:36:58      m   41           NaN       愛知県   \n",
       "3  2012-02-08 12:56:15      m   25           NaN       nan   \n",
       "4  2011-05-22 23:43:56      m   62           NaN      神奈川県   \n",
       "\n",
       "                       USER_ID_hash  \n",
       "0  d9dca3cb44bab12ba313eaa681f663eb  \n",
       "1  560574a339f1b25e57b0221e486907ed  \n",
       "2  e66ae91b978b3229f8fd858c80615b73  \n",
       "3  43fc18f32eafb05713ec02935e2c2825  \n",
       "4  dc6df8aa860f8db0d710ce9d4839840f  "
      ]
     },
     "execution_count": 19,
     "metadata": {},
     "output_type": "execute_result"
    }
   ],
   "source": [
    "usersample.head()"
   ]
  },
  {
   "cell_type": "code",
   "execution_count": null,
   "metadata": {
    "collapsed": false
   },
   "outputs": [
    {
     "data": {
      "text/plain": [
       "False"
      ]
     },
     "execution_count": 85,
     "metadata": {},
     "output_type": "execute_result"
    }
   ],
   "source": [
    "type(None) is None"
   ]
  },
  {
   "cell_type": "code",
   "execution_count": 79,
   "metadata": {
    "collapsed": false
   },
   "outputs": [
    {
     "name": "stdout",
     "output_type": "stream",
     "text": [
      "21951\n",
      "0\n"
     ]
    }
   ],
   "source": [
    "print sum(usersample.WITHDRAW_DATE.isnull())\n",
    "print sum(usersample.AGE.isnull())"
   ]
  },
  {
   "cell_type": "code",
   "execution_count": 74,
   "metadata": {
    "collapsed": false
   },
   "outputs": [
    {
     "data": {
      "text/plain": [
       "PREF_NAME\n",
       "nan     7256\n",
       "三重県      138\n",
       "京都府      318\n",
       "佐賀県       55\n",
       "兵庫県      879\n",
       "北海道      628\n",
       "千葉県      835\n",
       "和歌山県      57\n",
       "埼玉県      874\n",
       "大分県      107\n",
       "大阪府     1638\n",
       "奈良県      180\n",
       "宮城県      215\n",
       "宮崎県       74\n",
       "富山県       70\n",
       "山口県      110\n",
       "山形県       60\n",
       "山梨県       67\n",
       "岐阜県      171\n",
       "岡山県      134\n",
       "岩手県       80\n",
       "島根県       41\n",
       "広島県      287\n",
       "徳島県       57\n",
       "愛媛県      126\n",
       "愛知県      938\n",
       "新潟県      144\n",
       "東京都     2830\n",
       "栃木県      165\n",
       "沖縄県       83\n",
       "滋賀県      142\n",
       "熊本県      135\n",
       "石川県      102\n",
       "神奈川県    1653\n",
       "福井県       40\n",
       "福岡県      731\n",
       "福島県      121\n",
       "秋田県       50\n",
       "群馬県      135\n",
       "茨城県      187\n",
       "長崎県      111\n",
       "長野県      155\n",
       "青森県       57\n",
       "静岡県      405\n",
       "香川県       76\n",
       "高知県       51\n",
       "鳥取県       25\n",
       "鹿児島県      80\n",
       "Name: PREF_NAME, dtype: int64"
      ]
     },
     "execution_count": 74,
     "metadata": {},
     "output_type": "execute_result"
    }
   ],
   "source": [
    "usersample.groupby('PREF_NAME').PREF_NAME.count()"
   ]
  },
  {
   "cell_type": "code",
   "execution_count": 24,
   "metadata": {
    "collapsed": false
   },
   "outputs": [
    {
     "data": {
      "text/plain": [
       "REG_DATE         object\n",
       "SEX_ID           object\n",
       "AGE               int64\n",
       "WITHDRAW_DATE    object\n",
       "PREF_NAME        object\n",
       "USER_ID_hash     object\n",
       "dtype: object"
      ]
     },
     "execution_count": 24,
     "metadata": {},
     "output_type": "execute_result"
    }
   ],
   "source": [
    "usersample.dtypes"
   ]
  },
  {
   "cell_type": "code",
   "execution_count": 35,
   "metadata": {
    "collapsed": false
   },
   "outputs": [],
   "source": [
    "def getYear(inpStr):\n",
    "    return datetime.datetime.strptime(inpStr,'%Y-%m-%d %H:%M:%S').strftime('%Y')\n",
    "usersample['year']=usersample.REG_DATE.apply(getYear)"
   ]
  },
  {
   "cell_type": "code",
   "execution_count": 78,
   "metadata": {
    "collapsed": false
   },
   "outputs": [
    {
     "data": {
      "text/plain": [
       "datetime.datetime(2015, 4, 1, 0, 0, 5)"
      ]
     },
     "execution_count": 78,
     "metadata": {},
     "output_type": "execute_result"
    }
   ],
   "source": [
    "datetime.datetime.strptime('2015-04-01 00:00:05','%Y-%m-%d %H:%M:%S')"
   ]
  },
  {
   "cell_type": "code",
   "execution_count": 37,
   "metadata": {
    "collapsed": false
   },
   "outputs": [
    {
     "data": {
      "text/plain": [
       "datetime.datetime(2015, 9, 4, 6, 30, 6, 198322)"
      ]
     },
     "execution_count": 37,
     "metadata": {},
     "output_type": "execute_result"
    }
   ],
   "source": [
    "datetime.datetime.now()"
   ]
  },
  {
   "cell_type": "code",
   "execution_count": 63,
   "metadata": {
    "collapsed": false
   },
   "outputs": [],
   "source": [
    "def getMonths(inpStr):\n",
    "    inpdate=datetime.datetime.strptime(inpStr,'%Y-%m-%d %H:%M:%S')\n",
    "    nowdate=datetime.datetime.now()\n",
    "    delta=nowdate-inpdate\n",
    "    return int(delta.days*1.0/90)\n",
    "usersample['months']=usersample.REG_DATE.apply(getMonths)"
   ]
  },
  {
   "cell_type": "code",
   "execution_count": 64,
   "metadata": {
    "collapsed": false
   },
   "outputs": [
    {
     "data": {
      "text/plain": [
       "<matplotlib.axes._subplots.AxesSubplot at 0x7f80f615d2d0>"
      ]
     },
     "execution_count": 64,
     "metadata": {},
     "output_type": "execute_result"
    },
    {
     "data": {
      "image/png": "[encoded data removed]",
      "text/plain": [
       "<matplotlib.figure.Figure at 0x7f80f5e2a350>"
      ]
     },
     "metadata": {},
     "output_type": "display_data"
    }
   ],
   "source": [
    "usersample.groupby('year').year.count().plot(kind='bar')"
   ]
  },
  {
   "cell_type": "code",
   "execution_count": 65,
   "metadata": {
    "collapsed": false
   },
   "outputs": [
    {
     "data": {
      "text/plain": [
       "<matplotlib.axes._subplots.AxesSubplot at 0x7f80f6231690>"
      ]
     },
     "execution_count": 65,
     "metadata": {},
     "output_type": "execute_result"
    },
    {
     "data": {
      "image/png": "[encoded data removed]",
      "text/plain": [
       "<matplotlib.figure.Figure at 0x7f80f5d57ed0>"
      ]
     },
     "metadata": {},
     "output_type": "display_data"
    }
   ],
   "source": [
    "usersample.groupby('months').year.count().plot(kind='bar')"
   ]
  },
  {
   "cell_type": "code",
   "execution_count": 13,
   "metadata": {
    "collapsed": false
   },
   "outputs": [
    {
     "data": {
      "text/plain": [
       "<matplotlib.axes._subplots.AxesSubplot at 0x7f80f9216110>"
      ]
     },
     "execution_count": 13,
     "metadata": {},
     "output_type": "execute_result"
    },
    {
     "data": {
      "image/png": "[encoded data removed]",
      "text/plain": [
       "<matplotlib.figure.Figure at 0x7f80f9efacd0>"
      ]
     },
     "metadata": {},
     "output_type": "display_data"
    }
   ],
   "source": [
    "usersample.AGE.plot(kind='hist')\n",
    "usersample.groupby('PREF_NAME').PREF_NAME.count().plot(kind='bar')"
   ]
  },
  {
   "cell_type": "code",
   "execution_count": 15,
   "metadata": {
    "collapsed": false
   },
   "outputs": [
    {
     "data": {
      "text/plain": [
       "<matplotlib.axes._subplots.AxesSubplot at 0x7f80fd0f8090>"
      ]
     },
     "execution_count": 15,
     "metadata": {},
     "output_type": "execute_result"
    },
    {
     "data": {
      "image/png": "[encoded data removed]",
      "text/plain": [
       "<matplotlib.figure.Figure at 0x7f80f994b0d0>"
      ]
     },
     "metadata": {},
     "output_type": "display_data"
    }
   ],
   "source": [
    "usersample.groupby('SEX_ID').SEX_ID.count().plot(kind='bar')"
   ]
  },
  {
   "cell_type": "code",
   "execution_count": null,
   "metadata": {
    "collapsed": true
   },
   "outputs": [],
   "source": []
  }
 ],
 "metadata": {
  "kernelspec": {
   "display_name": "Python 2",
   "language": "python",
   "name": "python2"
  },
  "language_info": {
   "codemirror_mode": {
    "name": "ipython",
    "version": 2
   },
   "file_extension": ".py",
   "mimetype": "text/x-python",
   "name": "python",
   "nbconvert_exporter": "python",
   "pygments_lexer": "ipython2",
   "version": "2.7.10"
  }
 },
 "nbformat": 4,
 "nbformat_minor": 0
}
