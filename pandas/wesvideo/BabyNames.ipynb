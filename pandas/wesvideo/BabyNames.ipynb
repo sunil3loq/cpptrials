{
 "cells": [
  {
   "cell_type": "code",
   "execution_count": 62,
   "metadata": {
    "collapsed": true
   },
   "outputs": [],
   "source": [
    "from pandas import *\n",
    "import matplotlib.pyplot as plt\n",
    "%matplotlib inline"
   ]
  },
  {
   "cell_type": "code",
   "execution_count": 2,
   "metadata": {
    "collapsed": true
   },
   "outputs": [],
   "source": [
    "names=read_csv('./baby-names2.csv')"
   ]
  },
  {
   "cell_type": "code",
   "execution_count": 3,
   "metadata": {
    "collapsed": false
   },
   "outputs": [
    {
     "data": {
      "text/html": [
       "<div style=\"max-height:1000px;max-width:1500px;overflow:auto;\">\n",
       "<table border=\"1\" class=\"dataframe\">\n",
       "  <thead>\n",
       "    <tr style=\"text-align: right;\">\n",
       "      <th></th>\n",
       "      <th>year</th>\n",
       "      <th>name</th>\n",
       "      <th>prop</th>\n",
       "      <th>sex</th>\n",
       "      <th>soundex</th>\n",
       "    </tr>\n",
       "  </thead>\n",
       "  <tbody>\n",
       "    <tr>\n",
       "      <th>0</th>\n",
       "      <td> 1880</td>\n",
       "      <td>    John</td>\n",
       "      <td> 0.081541</td>\n",
       "      <td> boy</td>\n",
       "      <td> J500</td>\n",
       "    </tr>\n",
       "    <tr>\n",
       "      <th>1</th>\n",
       "      <td> 1880</td>\n",
       "      <td> William</td>\n",
       "      <td> 0.080511</td>\n",
       "      <td> boy</td>\n",
       "      <td> W450</td>\n",
       "    </tr>\n",
       "    <tr>\n",
       "      <th>2</th>\n",
       "      <td> 1880</td>\n",
       "      <td>   James</td>\n",
       "      <td> 0.050057</td>\n",
       "      <td> boy</td>\n",
       "      <td> J520</td>\n",
       "    </tr>\n",
       "    <tr>\n",
       "      <th>3</th>\n",
       "      <td> 1880</td>\n",
       "      <td> Charles</td>\n",
       "      <td> 0.045167</td>\n",
       "      <td> boy</td>\n",
       "      <td> C642</td>\n",
       "    </tr>\n",
       "    <tr>\n",
       "      <th>4</th>\n",
       "      <td> 1880</td>\n",
       "      <td>  George</td>\n",
       "      <td> 0.043292</td>\n",
       "      <td> boy</td>\n",
       "      <td> G620</td>\n",
       "    </tr>\n",
       "  </tbody>\n",
       "</table>\n",
       "</div>"
      ],
      "text/plain": [
       "   year     name      prop  sex soundex\n",
       "0  1880     John  0.081541  boy    J500\n",
       "1  1880  William  0.080511  boy    W450\n",
       "2  1880    James  0.050057  boy    J520\n",
       "3  1880  Charles  0.045167  boy    C642\n",
       "4  1880   George  0.043292  boy    G620"
      ]
     },
     "execution_count": 3,
     "metadata": {},
     "output_type": "execute_result"
    }
   ],
   "source": [
    "names.head()"
   ]
  },
  {
   "cell_type": "code",
   "execution_count": 10,
   "metadata": {
    "collapsed": false
   },
   "outputs": [],
   "source": [
    "names1880=names.ix[names.year==1880]"
   ]
  },
  {
   "cell_type": "code",
   "execution_count": 11,
   "metadata": {
    "collapsed": false
   },
   "outputs": [
    {
     "data": {
      "text/plain": [
       "258000"
      ]
     },
     "execution_count": 11,
     "metadata": {},
     "output_type": "execute_result"
    }
   ],
   "source": [
    "len(names)"
   ]
  },
  {
   "cell_type": "code",
   "execution_count": 12,
   "metadata": {
    "collapsed": false
   },
   "outputs": [
    {
     "data": {
      "text/plain": [
       "2000"
      ]
     },
     "execution_count": 12,
     "metadata": {},
     "output_type": "execute_result"
    }
   ],
   "source": [
    "len(names1880)"
   ]
  },
  {
   "cell_type": "code",
   "execution_count": 15,
   "metadata": {
    "collapsed": false
   },
   "outputs": [],
   "source": [
    "boys=names[names.sex=='boy']"
   ]
  },
  {
   "cell_type": "code",
   "execution_count": 16,
   "metadata": {
    "collapsed": true
   },
   "outputs": [],
   "source": [
    "girls=names[names.sex=='girl']"
   ]
  },
  {
   "cell_type": "code",
   "execution_count": 18,
   "metadata": {
    "collapsed": false
   },
   "outputs": [
    {
     "data": {
      "text/plain": [
       "129000"
      ]
     },
     "execution_count": 18,
     "metadata": {},
     "output_type": "execute_result"
    }
   ],
   "source": [
    "len(boys)"
   ]
  },
  {
   "cell_type": "code",
   "execution_count": 19,
   "metadata": {
    "collapsed": false
   },
   "outputs": [
    {
     "data": {
      "text/html": [
       "<div style=\"max-height:1000px;max-width:1500px;overflow:auto;\">\n",
       "<table border=\"1\" class=\"dataframe\">\n",
       "  <thead>\n",
       "    <tr style=\"text-align: right;\">\n",
       "      <th></th>\n",
       "      <th>year</th>\n",
       "      <th>name</th>\n",
       "      <th>prop</th>\n",
       "      <th>sex</th>\n",
       "      <th>soundex</th>\n",
       "    </tr>\n",
       "  </thead>\n",
       "  <tbody>\n",
       "    <tr>\n",
       "      <th>0</th>\n",
       "      <td> 1880</td>\n",
       "      <td>    John</td>\n",
       "      <td> 0.081541</td>\n",
       "      <td> boy</td>\n",
       "      <td> J500</td>\n",
       "    </tr>\n",
       "    <tr>\n",
       "      <th>1</th>\n",
       "      <td> 1880</td>\n",
       "      <td> William</td>\n",
       "      <td> 0.080511</td>\n",
       "      <td> boy</td>\n",
       "      <td> W450</td>\n",
       "    </tr>\n",
       "    <tr>\n",
       "      <th>2</th>\n",
       "      <td> 1880</td>\n",
       "      <td>   James</td>\n",
       "      <td> 0.050057</td>\n",
       "      <td> boy</td>\n",
       "      <td> J520</td>\n",
       "    </tr>\n",
       "    <tr>\n",
       "      <th>3</th>\n",
       "      <td> 1880</td>\n",
       "      <td> Charles</td>\n",
       "      <td> 0.045167</td>\n",
       "      <td> boy</td>\n",
       "      <td> C642</td>\n",
       "    </tr>\n",
       "    <tr>\n",
       "      <th>4</th>\n",
       "      <td> 1880</td>\n",
       "      <td>  George</td>\n",
       "      <td> 0.043292</td>\n",
       "      <td> boy</td>\n",
       "      <td> G620</td>\n",
       "    </tr>\n",
       "  </tbody>\n",
       "</table>\n",
       "</div>"
      ],
      "text/plain": [
       "   year     name      prop  sex soundex\n",
       "0  1880     John  0.081541  boy    J500\n",
       "1  1880  William  0.080511  boy    W450\n",
       "2  1880    James  0.050057  boy    J520\n",
       "3  1880  Charles  0.045167  boy    C642\n",
       "4  1880   George  0.043292  boy    G620"
      ]
     },
     "execution_count": 19,
     "metadata": {},
     "output_type": "execute_result"
    }
   ],
   "source": [
    "boys.head()"
   ]
  },
  {
   "cell_type": "code",
   "execution_count": 20,
   "metadata": {
    "collapsed": false
   },
   "outputs": [
    {
     "data": {
      "text/plain": [
       "year         int64\n",
       "name        object\n",
       "prop       float64\n",
       "sex         object\n",
       "soundex     object\n",
       "dtype: object"
      ]
     },
     "execution_count": 20,
     "metadata": {},
     "output_type": "execute_result"
    }
   ],
   "source": [
    "boys.dtypes"
   ]
  },
  {
   "cell_type": "code",
   "execution_count": 25,
   "metadata": {
    "collapsed": false
   },
   "outputs": [
    {
     "data": {
      "text/plain": [
       "year\n",
       "1880    1000\n",
       "1881    1000\n",
       "1882    1000\n",
       "1883    1000\n",
       "1884    1000\n",
       "dtype: int64"
      ]
     },
     "execution_count": 25,
     "metadata": {},
     "output_type": "execute_result"
    }
   ],
   "source": [
    "boys.groupby('year').size().head()"
   ]
  },
  {
   "cell_type": "code",
   "execution_count": 30,
   "metadata": {
    "collapsed": false
   },
   "outputs": [
    {
     "data": {
      "text/plain": [
       "year  sex \n",
       "1880  boy     1000\n",
       "      girl    1000\n",
       "1881  boy     1000\n",
       "      girl    1000\n",
       "1882  boy     1000\n",
       "      girl    1000\n",
       "1883  boy     1000\n",
       "      girl    1000\n",
       "1884  boy     1000\n",
       "      girl    1000\n",
       "1885  boy     1000\n",
       "      girl    1000\n",
       "1886  boy     1000\n",
       "      girl    1000\n",
       "1887  boy     1000\n",
       "dtype: int64"
      ]
     },
     "execution_count": 30,
     "metadata": {},
     "output_type": "execute_result"
    }
   ],
   "source": [
    "names.groupby(['year','sex']).size().head(15)"
   ]
  },
  {
   "cell_type": "code",
   "execution_count": 38,
   "metadata": {
    "collapsed": false
   },
   "outputs": [
    {
     "data": {
      "text/plain": [
       "sex\n",
       "boy     1000\n",
       "girl    1000\n",
       "dtype: int64"
      ]
     },
     "execution_count": 38,
     "metadata": {},
     "output_type": "execute_result"
    }
   ],
   "source": [
    "names.groupby(['year','sex']).size().ix[1880]"
   ]
  },
  {
   "cell_type": "code",
   "execution_count": 39,
   "metadata": {
    "collapsed": false
   },
   "outputs": [
    {
     "data": {
      "text/html": [
       "<div style=\"max-height:1000px;max-width:1500px;overflow:auto;\">\n",
       "<table border=\"1\" class=\"dataframe\">\n",
       "  <thead>\n",
       "    <tr style=\"text-align: right;\">\n",
       "      <th></th>\n",
       "      <th>year</th>\n",
       "      <th>name</th>\n",
       "      <th>prop</th>\n",
       "      <th>sex</th>\n",
       "      <th>soundex</th>\n",
       "    </tr>\n",
       "  </thead>\n",
       "  <tbody>\n",
       "    <tr>\n",
       "      <th>0</th>\n",
       "      <td> 1880</td>\n",
       "      <td>    John</td>\n",
       "      <td> 0.081541</td>\n",
       "      <td> boy</td>\n",
       "      <td> J500</td>\n",
       "    </tr>\n",
       "    <tr>\n",
       "      <th>1</th>\n",
       "      <td> 1880</td>\n",
       "      <td> William</td>\n",
       "      <td> 0.080511</td>\n",
       "      <td> boy</td>\n",
       "      <td> W450</td>\n",
       "    </tr>\n",
       "    <tr>\n",
       "      <th>2</th>\n",
       "      <td> 1880</td>\n",
       "      <td>   James</td>\n",
       "      <td> 0.050057</td>\n",
       "      <td> boy</td>\n",
       "      <td> J520</td>\n",
       "    </tr>\n",
       "    <tr>\n",
       "      <th>3</th>\n",
       "      <td> 1880</td>\n",
       "      <td> Charles</td>\n",
       "      <td> 0.045167</td>\n",
       "      <td> boy</td>\n",
       "      <td> C642</td>\n",
       "    </tr>\n",
       "    <tr>\n",
       "      <th>4</th>\n",
       "      <td> 1880</td>\n",
       "      <td>  George</td>\n",
       "      <td> 0.043292</td>\n",
       "      <td> boy</td>\n",
       "      <td> G620</td>\n",
       "    </tr>\n",
       "  </tbody>\n",
       "</table>\n",
       "</div>"
      ],
      "text/plain": [
       "   year     name      prop  sex soundex\n",
       "0  1880     John  0.081541  boy    J500\n",
       "1  1880  William  0.080511  boy    W450\n",
       "2  1880    James  0.050057  boy    J520\n",
       "3  1880  Charles  0.045167  boy    C642\n",
       "4  1880   George  0.043292  boy    G620"
      ]
     },
     "execution_count": 39,
     "metadata": {},
     "output_type": "execute_result"
    }
   ],
   "source": [
    "#get the most popular boys name in each year\n",
    "boys.head()"
   ]
  },
  {
   "cell_type": "code",
   "execution_count": 44,
   "metadata": {
    "collapsed": false
   },
   "outputs": [
    {
     "data": {
      "text/plain": [
       "name    John\n",
       "Name: 2000, dtype: object"
      ]
     },
     "execution_count": 44,
     "metadata": {},
     "output_type": "execute_result"
    }
   ],
   "source": [
    "boys1882=boys[boys.year==1882]\n",
    "boys1882.ix[boys1882.prop.idxmax(),['name']]"
   ]
  },
  {
   "cell_type": "code",
   "execution_count": 60,
   "metadata": {
    "collapsed": false
   },
   "outputs": [],
   "source": [
    "def getmaxname(inpObj):\n",
    "    '''gets the best name for each df passed in - the max value by the prop'''\n",
    "    return inpObj.ix[inpObj.prop.idxmax()]\n",
    "\n",
    "result=boys.groupby('year').apply(getmaxname)"
   ]
  },
  {
   "cell_type": "code",
   "execution_count": 63,
   "metadata": {
    "collapsed": false
   },
   "outputs": [
    {
     "data": {
      "text/plain": [
       "<matplotlib.axes._subplots.AxesSubplot at 0x7f078385f050>"
      ]
     },
     "execution_count": 63,
     "metadata": {},
     "output_type": "execute_result"
    },
    {
     "data": {
      "image/png": "[encoded data removed]",
      "text/plain": [
       "<matplotlib.figure.Figure at 0x7f07ab772350>"
      ]
     },
     "metadata": {},
     "output_type": "display_data"
    }
   ],
   "source": [
    "result.prop.plot()"
   ]
  },
  {
   "cell_type": "code",
   "execution_count": 64,
   "metadata": {
    "collapsed": false
   },
   "outputs": [
    {
     "data": {
      "text/html": [
       "<div style=\"max-height:1000px;max-width:1500px;overflow:auto;\">\n",
       "<table border=\"1\" class=\"dataframe\">\n",
       "  <thead>\n",
       "    <tr style=\"text-align: right;\">\n",
       "      <th></th>\n",
       "      <th>year</th>\n",
       "      <th>name</th>\n",
       "      <th>prop</th>\n",
       "      <th>sex</th>\n",
       "      <th>soundex</th>\n",
       "    </tr>\n",
       "  </thead>\n",
       "  <tbody>\n",
       "    <tr>\n",
       "      <th>563 </th>\n",
       "      <td> 1880</td>\n",
       "      <td> Travis</td>\n",
       "      <td> 0.000101</td>\n",
       "      <td> boy</td>\n",
       "      <td> T612</td>\n",
       "    </tr>\n",
       "    <tr>\n",
       "      <th>2648</th>\n",
       "      <td> 1882</td>\n",
       "      <td> Travis</td>\n",
       "      <td> 0.000082</td>\n",
       "      <td> boy</td>\n",
       "      <td> T612</td>\n",
       "    </tr>\n",
       "    <tr>\n",
       "      <th>3672</th>\n",
       "      <td> 1883</td>\n",
       "      <td> Travis</td>\n",
       "      <td> 0.000080</td>\n",
       "      <td> boy</td>\n",
       "      <td> T612</td>\n",
       "    </tr>\n",
       "    <tr>\n",
       "      <th>4656</th>\n",
       "      <td> 1884</td>\n",
       "      <td> Travis</td>\n",
       "      <td> 0.000081</td>\n",
       "      <td> boy</td>\n",
       "      <td> T612</td>\n",
       "    </tr>\n",
       "    <tr>\n",
       "      <th>5602</th>\n",
       "      <td> 1885</td>\n",
       "      <td> Travis</td>\n",
       "      <td> 0.000095</td>\n",
       "      <td> boy</td>\n",
       "      <td> T612</td>\n",
       "    </tr>\n",
       "  </tbody>\n",
       "</table>\n",
       "</div>"
      ],
      "text/plain": [
       "      year    name      prop  sex soundex\n",
       "563   1880  Travis  0.000101  boy    T612\n",
       "2648  1882  Travis  0.000082  boy    T612\n",
       "3672  1883  Travis  0.000080  boy    T612\n",
       "4656  1884  Travis  0.000081  boy    T612\n",
       "5602  1885  Travis  0.000095  boy    T612"
      ]
     },
     "execution_count": 64,
     "metadata": {},
     "output_type": "execute_result"
    }
   ],
   "source": [
    "boys[boys.name=='Travis'].head()"
   ]
  },
  {
   "cell_type": "code",
   "execution_count": 67,
   "metadata": {
    "collapsed": false
   },
   "outputs": [],
   "source": [
    "#we could index by name and year which together form a unique combination\n",
    "idf=boys.set_index(['name','year'])"
   ]
  },
  {
   "cell_type": "code",
   "execution_count": 69,
   "metadata": {
    "collapsed": false
   },
   "outputs": [
    {
     "data": {
      "text/html": [
       "<div style=\"max-height:1000px;max-width:1500px;overflow:auto;\">\n",
       "<table border=\"1\" class=\"dataframe\">\n",
       "  <thead>\n",
       "    <tr style=\"text-align: right;\">\n",
       "      <th></th>\n",
       "      <th></th>\n",
       "      <th>prop</th>\n",
       "      <th>sex</th>\n",
       "      <th>soundex</th>\n",
       "    </tr>\n",
       "    <tr>\n",
       "      <th>name</th>\n",
       "      <th>year</th>\n",
       "      <th></th>\n",
       "      <th></th>\n",
       "      <th></th>\n",
       "    </tr>\n",
       "  </thead>\n",
       "  <tbody>\n",
       "    <tr>\n",
       "      <th>John</th>\n",
       "      <th>1880</th>\n",
       "      <td> 0.081541</td>\n",
       "      <td> boy</td>\n",
       "      <td> J500</td>\n",
       "    </tr>\n",
       "    <tr>\n",
       "      <th>William</th>\n",
       "      <th>1880</th>\n",
       "      <td> 0.080511</td>\n",
       "      <td> boy</td>\n",
       "      <td> W450</td>\n",
       "    </tr>\n",
       "    <tr>\n",
       "      <th>James</th>\n",
       "      <th>1880</th>\n",
       "      <td> 0.050057</td>\n",
       "      <td> boy</td>\n",
       "      <td> J520</td>\n",
       "    </tr>\n",
       "    <tr>\n",
       "      <th>Charles</th>\n",
       "      <th>1880</th>\n",
       "      <td> 0.045167</td>\n",
       "      <td> boy</td>\n",
       "      <td> C642</td>\n",
       "    </tr>\n",
       "    <tr>\n",
       "      <th>George</th>\n",
       "      <th>1880</th>\n",
       "      <td> 0.043292</td>\n",
       "      <td> boy</td>\n",
       "      <td> G620</td>\n",
       "    </tr>\n",
       "  </tbody>\n",
       "</table>\n",
       "</div>"
      ],
      "text/plain": [
       "                  prop  sex soundex\n",
       "name    year                       \n",
       "John    1880  0.081541  boy    J500\n",
       "William 1880  0.080511  boy    W450\n",
       "James   1880  0.050057  boy    J520\n",
       "Charles 1880  0.045167  boy    C642\n",
       "George  1880  0.043292  boy    G620"
      ]
     },
     "execution_count": 69,
     "metadata": {},
     "output_type": "execute_result"
    }
   ],
   "source": [
    "idf[:5]"
   ]
  },
  {
   "cell_type": "code",
   "execution_count": 71,
   "metadata": {
    "collapsed": false
   },
   "outputs": [
    {
     "data": {
      "text/html": [
       "<div style=\"max-height:1000px;max-width:1500px;overflow:auto;\">\n",
       "<table border=\"1\" class=\"dataframe\">\n",
       "  <thead>\n",
       "    <tr style=\"text-align: right;\">\n",
       "      <th></th>\n",
       "      <th>prop</th>\n",
       "      <th>sex</th>\n",
       "      <th>soundex</th>\n",
       "    </tr>\n",
       "    <tr>\n",
       "      <th>year</th>\n",
       "      <th></th>\n",
       "      <th></th>\n",
       "      <th></th>\n",
       "    </tr>\n",
       "  </thead>\n",
       "  <tbody>\n",
       "    <tr>\n",
       "      <th>1880</th>\n",
       "      <td> 0.043292</td>\n",
       "      <td> boy</td>\n",
       "      <td> G620</td>\n",
       "    </tr>\n",
       "  </tbody>\n",
       "</table>\n",
       "</div>"
      ],
      "text/plain": [
       "          prop  sex soundex\n",
       "year                       \n",
       "1880  0.043292  boy    G620"
      ]
     },
     "execution_count": 71,
     "metadata": {},
     "output_type": "execute_result"
    }
   ],
   "source": [
    "idf[:10].ix['George']"
   ]
  },
  {
   "cell_type": "code",
   "execution_count": 72,
   "metadata": {
    "collapsed": false
   },
   "outputs": [
    {
     "data": {
      "text/plain": [
       "<matplotlib.axes._subplots.AxesSubplot at 0x7f078381be10>"
      ]
     },
     "execution_count": 72,
     "metadata": {},
     "output_type": "execute_result"
    },
    {
     "data": {
      "image/png": "[encoded data removed]",
      "text/plain": [
       "<matplotlib.figure.Figure at 0x7f0783877150>"
      ]
     },
     "metadata": {},
     "output_type": "display_data"
    }
   ],
   "source": [
    "#plot the popularit yof travis over time\n",
    "idf.ix['Travis'].prop.plot()"
   ]
  },
  {
   "cell_type": "code",
   "execution_count": 73,
   "metadata": {
    "collapsed": false
   },
   "outputs": [
    {
     "data": {
      "text/html": [
       "<div style=\"max-height:1000px;max-width:1500px;overflow:auto;\">\n",
       "<table border=\"1\" class=\"dataframe\">\n",
       "  <thead>\n",
       "    <tr style=\"text-align: right;\">\n",
       "      <th></th>\n",
       "      <th>prop</th>\n",
       "      <th>sex</th>\n",
       "      <th>soundex</th>\n",
       "    </tr>\n",
       "    <tr>\n",
       "      <th>year</th>\n",
       "      <th></th>\n",
       "      <th></th>\n",
       "      <th></th>\n",
       "    </tr>\n",
       "  </thead>\n",
       "  <tbody>\n",
       "    <tr>\n",
       "      <th>1880</th>\n",
       "      <td> 0.000101</td>\n",
       "      <td> boy</td>\n",
       "      <td> T612</td>\n",
       "    </tr>\n",
       "    <tr>\n",
       "      <th>1882</th>\n",
       "      <td> 0.000082</td>\n",
       "      <td> boy</td>\n",
       "      <td> T612</td>\n",
       "    </tr>\n",
       "    <tr>\n",
       "      <th>1883</th>\n",
       "      <td> 0.000080</td>\n",
       "      <td> boy</td>\n",
       "      <td> T612</td>\n",
       "    </tr>\n",
       "    <tr>\n",
       "      <th>1884</th>\n",
       "      <td> 0.000081</td>\n",
       "      <td> boy</td>\n",
       "      <td> T612</td>\n",
       "    </tr>\n",
       "    <tr>\n",
       "      <th>1885</th>\n",
       "      <td> 0.000095</td>\n",
       "      <td> boy</td>\n",
       "      <td> T612</td>\n",
       "    </tr>\n",
       "  </tbody>\n",
       "</table>\n",
       "</div>"
      ],
      "text/plain": [
       "          prop  sex soundex\n",
       "year                       \n",
       "1880  0.000101  boy    T612\n",
       "1882  0.000082  boy    T612\n",
       "1883  0.000080  boy    T612\n",
       "1884  0.000081  boy    T612\n",
       "1885  0.000095  boy    T612"
      ]
     },
     "execution_count": 73,
     "metadata": {},
     "output_type": "execute_result"
    }
   ],
   "source": [
    "idf.ix['Travis'].head()"
   ]
  },
  {
   "cell_type": "code",
   "execution_count": 75,
   "metadata": {
    "collapsed": false
   },
   "outputs": [
    {
     "data": {
      "text/plain": [
       "MultiIndex(levels=[[u'Aaden', u'Aarav', u'Aaron', u'Ab', u'Abb', u'Abbie', u'Abbott', u'Abdiel', u'Abdul', u'Abdullah', u'Abe', u'Abel', u'Abelardo', u'Abie', u'Abner', u'Abraham', u'Abram', u'Ace', u'Acey', u'Acie', u'Acy', u'Ada', u'Adalberto', u'Adam', u'Adams', u'Adan', u'Add', u'Addie', u'Addison', u'Adelard', u'Adelbert', u'Aden', u'Adin', u'Aditya', u'Adlai', u'Admiral', u'Adolf', u'Adolfo', u'Adolph', u'Adolphus', u'Adonis', u'Adrain', u'Adrian', u'Adriel', u'Adrien', u'Adron', u'Aedan', u'Agnes', u'Agustin', u'Agustus', u'Ah', u'Ahmad', u'Ahmed', u'Aidan', u'Aiden', u'Aidyn', u'Akeem', u'Akira', u'Al', u'Alan', u'Alanzo', u'Alba', u'Albert', u'Alberto', u'Albertus', u'Albin', u'Albion', u'Alby', u'Alcee', u'Alcide', u'Alden', u'Aldo', u'Alec', u'Aleck', u'Alejandro', u'Alek', u'Alessandro', u'Alex', u'Alexande', u'Alexander', u'Alexandre', u'Alexandro', u'Alexis', u'Alexzander', u'Alf', u'Alferd', u'Alfie', u'Alfonse', u'Alfonso', u'Alfonzo', u'Alford', u'Alfred', u'Alfredo', u'Alger', u'Algernon', u'Algie', u'Algot', u'Ali', u'Alice', u'Alijah', ...], [1880, 1881, 1882, 1883, 1884, 1885, 1886, 1887, 1888, 1889, 1890, 1891, 1892, 1893, 1894, 1895, 1896, 1897, 1898, 1899, 1900, 1901, 1902, 1903, 1904, 1905, 1906, 1907, 1908, 1909, 1910, 1911, 1912, 1913, 1914, 1915, 1916, 1917, 1918, 1919, 1920, 1921, 1922, 1923, 1924, 1925, 1926, 1927, 1928, 1929, 1930, 1931, 1932, 1933, 1934, 1935, 1936, 1937, 1938, 1939, 1940, 1941, 1942, 1943, 1944, 1945, 1946, 1947, 1948, 1949, 1950, 1951, 1952, 1953, 1954, 1955, 1956, 1957, 1958, 1959, 1960, 1961, 1962, 1963, 1964, 1965, 1966, 1967, 1968, 1969, 1970, 1971, 1972, 1973, 1974, 1975, 1976, 1977, 1978, 1979, ...]],\n",
       "           labels=[[1842, 3357, 1706, 589, 1364, 1289, 1871, 3132, 1535, 2824, 1061, 1504, 3304, 238, 1295, 62, 2935, 820, 2228, 1835, 591, 626, 2804, 169, 770, 1175, 3353, 1813, 2619, 2168, 2674, 329, 1299, 3361, 91, 2926, 2886, 1537, 1669, 3163, 1112, 526, 2124, 1587, 2348, 2414, 348, 1539, 1826, 1286, 1509, 1030, 1204, 2726, 1043, 631, 1063, 323, 590, 2658, 1048, 1632, 2632, 2262, 2112, 1624, 2656, 1457, 2581, 3128, 1595, 662, 79, 265, 1276, 1576, 1665, 2146, 1579, 2324, 2677, 101, 200, 3052, 603, 3362, 2758, 2901, 3309, 1816, 2441, 77, 2143, 1901, 2752, 3009, 342, 764, 1811, 511, ...], [0, 0, 0, 0, 0, 0, 0, 0, 0, 0, 0, 0, 0, 0, 0, 0, 0, 0, 0, 0, 0, 0, 0, 0, 0, 0, 0, 0, 0, 0, 0, 0, 0, 0, 0, 0, 0, 0, 0, 0, 0, 0, 0, 0, 0, 0, 0, 0, 0, 0, 0, 0, 0, 0, 0, 0, 0, 0, 0, 0, 0, 0, 0, 0, 0, 0, 0, 0, 0, 0, 0, 0, 0, 0, 0, 0, 0, 0, 0, 0, 0, 0, 0, 0, 0, 0, 0, 0, 0, 0, 0, 0, 0, 0, 0, 0, 0, 0, 0, 0, ...]],\n",
       "           names=[u'name', u'year'])"
      ]
     },
     "execution_count": 75,
     "metadata": {},
     "output_type": "execute_result"
    }
   ],
   "source": [
    "idf.index"
   ]
  },
  {
   "cell_type": "code",
   "execution_count": 81,
   "metadata": {
    "collapsed": false
   },
   "outputs": [
    {
     "data": {
      "text/plain": [
       "prop    0.081541\n",
       "Name: (John, 1880), dtype: object"
      ]
     },
     "execution_count": 81,
     "metadata": {},
     "output_type": "execute_result"
    }
   ],
   "source": [
    "idf.ix[('John',1880),['prop']]"
   ]
  },
  {
   "cell_type": "code",
   "execution_count": 87,
   "metadata": {
    "collapsed": false
   },
   "outputs": [
    {
     "data": {
      "text/plain": [
       "name\n",
       "Aaden    0.000442\n",
       "Aarav    0.000101\n",
       "Aaron    0.000714\n",
       "Ab       0.000042\n",
       "Abb      0.000046\n",
       "Name: prop, dtype: float64"
      ]
     },
     "execution_count": 87,
     "metadata": {},
     "output_type": "execute_result"
    }
   ],
   "source": [
    "boys.groupby('name')['prop'].median().head()"
   ]
  },
  {
   "cell_type": "code",
   "execution_count": 89,
   "metadata": {
    "collapsed": false
   },
   "outputs": [
    {
     "data": {
      "text/plain": [
       "name        \n",
       "Aaden  count      1.000000\n",
       "       mean       0.000442\n",
       "       std             NaN\n",
       "       min        0.000442\n",
       "       25%        0.000442\n",
       "       50%        0.000442\n",
       "       75%        0.000442\n",
       "       max        0.000442\n",
       "Aarav  count      1.000000\n",
       "       mean       0.000101\n",
       "       std             NaN\n",
       "       min        0.000101\n",
       "       25%        0.000101\n",
       "       50%        0.000101\n",
       "       75%        0.000101\n",
       "       max        0.000101\n",
       "Aaron  count    129.000000\n",
       "       mean       0.002266\n",
       "       std        0.002545\n",
       "       min        0.000351\n",
       "dtype: float64"
      ]
     },
     "execution_count": 89,
     "metadata": {},
     "output_type": "execute_result"
    }
   ],
   "source": [
    "boys.groupby('name')['prop'].describe().head(20)"
   ]
  },
  {
   "cell_type": "code",
   "execution_count": 93,
   "metadata": {
    "collapsed": false
   },
   "outputs": [
    {
     "data": {
      "text/plain": [
       "count    129000.000000\n",
       "mean          0.000916\n",
       "std           0.003441\n",
       "min           0.000026\n",
       "25%           0.000071\n",
       "50%           0.000142\n",
       "75%           0.000453\n",
       "max           0.081541\n",
       "Name: prop, dtype: float64"
      ]
     },
     "execution_count": 93,
     "metadata": {},
     "output_type": "execute_result"
    }
   ],
   "source": [
    "boys['prop'].describe().head(10)"
   ]
  },
  {
   "cell_type": "code",
   "execution_count": 94,
   "metadata": {
    "collapsed": true
   },
   "outputs": [],
   "source": [
    "result=boys.groupby('name')['prop'].describe()"
   ]
  },
  {
   "cell_type": "code",
   "execution_count": 95,
   "metadata": {
    "collapsed": false
   },
   "outputs": [
    {
     "data": {
      "text/plain": [
       "name        \n",
       "Aaden  count    1.000000\n",
       "       mean     0.000442\n",
       "       std           NaN\n",
       "       min      0.000442\n",
       "       25%      0.000442\n",
       "dtype: float64"
      ]
     },
     "execution_count": 95,
     "metadata": {},
     "output_type": "execute_result"
    }
   ],
   "source": [
    "result.head()"
   ]
  },
  {
   "cell_type": "code",
   "execution_count": 113,
   "metadata": {
    "collapsed": false
   },
   "outputs": [],
   "source": [
    "df=boys[boys.year==1880].sort_index(by='prop',ascending=False)"
   ]
  },
  {
   "cell_type": "code",
   "execution_count": 114,
   "metadata": {
    "collapsed": false
   },
   "outputs": [
    {
     "data": {
      "text/plain": [
       "936    0.930578\n",
       "935    0.930620\n",
       "934    0.930662\n",
       "933    0.930704\n",
       "999    0.930746\n",
       "Name: prop, dtype: float64"
      ]
     },
     "execution_count": 114,
     "metadata": {},
     "output_type": "execute_result"
    }
   ],
   "source": [
    "df.prop.cumsum().tail()"
   ]
  },
  {
   "cell_type": "code",
   "execution_count": 115,
   "metadata": {
    "collapsed": false
   },
   "outputs": [
    {
     "data": {
      "text/plain": [
       "array([15])"
      ]
     },
     "execution_count": 115,
     "metadata": {},
     "output_type": "execute_result"
    }
   ],
   "source": [
    "df.prop.cumsum().searchsorted(0.5)"
   ]
  },
  {
   "cell_type": "code",
   "execution_count": 127,
   "metadata": {
    "collapsed": false
   },
   "outputs": [
    {
     "data": {
      "text/plain": [
       "<matplotlib.axes._subplots.AxesSubplot at 0x7f07828cca90>"
      ]
     },
     "execution_count": 127,
     "metadata": {},
     "output_type": "execute_result"
    },
    {
     "data": {
      "image/png": "[encoded data removed]",
      "text/plain": [
       "<matplotlib.figure.Figure at 0x7f0782b66710>"
      ]
     },
     "metadata": {},
     "output_type": "display_data"
    }
   ],
   "source": [
    "def calcDiversity(inpGroup,divIndex=0.5):\n",
    "    '''Deiversity as defined is the total number of names covering the divIndex ratio of the population in an year'''\n",
    "    #divIndex=0.5\n",
    "    return inpGroup.sort_index(by='prop',ascending=False).prop.cumsum().searchsorted(divIndex)[0]\n",
    "boys.groupby('year').apply(calcDiversity).plot()"
   ]
  },
  {
   "cell_type": "code",
   "execution_count": 128,
   "metadata": {
    "collapsed": false
   },
   "outputs": [
    {
     "data": {
      "text/plain": [
       "<matplotlib.axes._subplots.AxesSubplot at 0x7f0782958810>"
      ]
     },
     "execution_count": 128,
     "metadata": {},
     "output_type": "execute_result"
    },
    {
     "data": {
      "image/png": "[encoded data removed]",
      "text/plain": [
       "<matplotlib.figure.Figure at 0x7f0782775e50>"
      ]
     },
     "metadata": {},
     "output_type": "display_data"
    }
   ],
   "source": [
    "girls.groupby('year').apply(calcDiversity).plot()"
   ]
  },
  {
   "cell_type": "code",
   "execution_count": 135,
   "metadata": {
    "collapsed": false
   },
   "outputs": [
    {
     "data": {
      "text/plain": [
       "<matplotlib.legend.Legend at 0x7f07828ad590>"
      ]
     },
     "execution_count": 135,
     "metadata": {},
     "output_type": "execute_result"
    },
    {
     "data": {
      "image/png": "[encoded data removed]",
      "text/plain": [
       "<matplotlib.figure.Figure at 0x7f0782741e10>"
      ]
     },
     "metadata": {},
     "output_type": "display_data"
    }
   ],
   "source": [
    "q=0.25\n",
    "boys.groupby('year').apply(calcDiversity,divIndex=q).plot(label='boy')\n",
    "girls.groupby('year').apply(calcDiversity,divIndex=q).plot(label='girl')\n",
    "plt.legend(loc='best')"
   ]
  },
  {
   "cell_type": "code",
   "execution_count": 139,
   "metadata": {
    "collapsed": false
   },
   "outputs": [
    {
     "data": {
      "text/html": [
       "<div style=\"max-height:1000px;max-width:1500px;overflow:auto;\">\n",
       "<table border=\"1\" class=\"dataframe\">\n",
       "  <thead>\n",
       "    <tr style=\"text-align: right;\">\n",
       "      <th></th>\n",
       "      <th>year</th>\n",
       "      <th>name</th>\n",
       "      <th>prop</th>\n",
       "      <th>sex</th>\n",
       "      <th>soundex</th>\n",
       "    </tr>\n",
       "  </thead>\n",
       "  <tbody>\n",
       "    <tr>\n",
       "      <th>0   </th>\n",
       "      <td> 1880</td>\n",
       "      <td> John</td>\n",
       "      <td> 0.081541</td>\n",
       "      <td> boy</td>\n",
       "      <td> J500</td>\n",
       "    </tr>\n",
       "    <tr>\n",
       "      <th>1000</th>\n",
       "      <td> 1881</td>\n",
       "      <td> John</td>\n",
       "      <td> 0.080975</td>\n",
       "      <td> boy</td>\n",
       "      <td> J500</td>\n",
       "    </tr>\n",
       "    <tr>\n",
       "      <th>2000</th>\n",
       "      <td> 1882</td>\n",
       "      <td> John</td>\n",
       "      <td> 0.078314</td>\n",
       "      <td> boy</td>\n",
       "      <td> J500</td>\n",
       "    </tr>\n",
       "    <tr>\n",
       "      <th>3000</th>\n",
       "      <td> 1883</td>\n",
       "      <td> John</td>\n",
       "      <td> 0.079066</td>\n",
       "      <td> boy</td>\n",
       "      <td> J500</td>\n",
       "    </tr>\n",
       "    <tr>\n",
       "      <th>4000</th>\n",
       "      <td> 1884</td>\n",
       "      <td> John</td>\n",
       "      <td> 0.076476</td>\n",
       "      <td> boy</td>\n",
       "      <td> J500</td>\n",
       "    </tr>\n",
       "  </tbody>\n",
       "</table>\n",
       "</div>"
      ],
      "text/plain": [
       "      year  name      prop  sex soundex\n",
       "0     1880  John  0.081541  boy    J500\n",
       "1000  1881  John  0.080975  boy    J500\n",
       "2000  1882  John  0.078314  boy    J500\n",
       "3000  1883  John  0.079066  boy    J500\n",
       "4000  1884  John  0.076476  boy    J500"
      ]
     },
     "execution_count": 139,
     "metadata": {},
     "output_type": "execute_result"
    }
   ],
   "source": [
    "#what is the rank of my name over years\n",
    "names[names.name=='John'].head()"
   ]
  },
  {
   "cell_type": "code",
   "execution_count": 146,
   "metadata": {
    "collapsed": false
   },
   "outputs": [
    {
     "name": "stderr",
     "output_type": "stream",
     "text": [
      "/home/sunil/anaconda/lib/python2.7/site-packages/IPython/kernel/__main__.py:1: SettingWithCopyWarning: \n",
      "A value is trying to be set on a copy of a slice from a DataFrame.\n",
      "Try using .loc[row_indexer,col_indexer] = value instead\n",
      "\n",
      "See the the caveats in the documentation: http://pandas.pydata.org/pandas-docs/stable/indexing.html#indexing-view-versus-copy\n",
      "  if __name__ == '__main__':\n"
     ]
    }
   ],
   "source": [
    "boys['yearwiserank']=boys.groupby('year').prop.transform(Series.rank)"
   ]
  },
  {
   "cell_type": "code",
   "execution_count": 147,
   "metadata": {
    "collapsed": false
   },
   "outputs": [
    {
     "data": {
      "text/html": [
       "<div style=\"max-height:1000px;max-width:1500px;overflow:auto;\">\n",
       "<table border=\"1\" class=\"dataframe\">\n",
       "  <thead>\n",
       "    <tr style=\"text-align: right;\">\n",
       "      <th></th>\n",
       "      <th>year</th>\n",
       "      <th>name</th>\n",
       "      <th>prop</th>\n",
       "      <th>sex</th>\n",
       "      <th>soundex</th>\n",
       "      <th>yearwiserank</th>\n",
       "    </tr>\n",
       "  </thead>\n",
       "  <tbody>\n",
       "    <tr>\n",
       "      <th>0</th>\n",
       "      <td> 1880</td>\n",
       "      <td>    John</td>\n",
       "      <td> 0.081541</td>\n",
       "      <td> boy</td>\n",
       "      <td> J500</td>\n",
       "      <td> 1000</td>\n",
       "    </tr>\n",
       "    <tr>\n",
       "      <th>1</th>\n",
       "      <td> 1880</td>\n",
       "      <td> William</td>\n",
       "      <td> 0.080511</td>\n",
       "      <td> boy</td>\n",
       "      <td> W450</td>\n",
       "      <td>  999</td>\n",
       "    </tr>\n",
       "    <tr>\n",
       "      <th>2</th>\n",
       "      <td> 1880</td>\n",
       "      <td>   James</td>\n",
       "      <td> 0.050057</td>\n",
       "      <td> boy</td>\n",
       "      <td> J520</td>\n",
       "      <td>  998</td>\n",
       "    </tr>\n",
       "    <tr>\n",
       "      <th>3</th>\n",
       "      <td> 1880</td>\n",
       "      <td> Charles</td>\n",
       "      <td> 0.045167</td>\n",
       "      <td> boy</td>\n",
       "      <td> C642</td>\n",
       "      <td>  997</td>\n",
       "    </tr>\n",
       "    <tr>\n",
       "      <th>4</th>\n",
       "      <td> 1880</td>\n",
       "      <td>  George</td>\n",
       "      <td> 0.043292</td>\n",
       "      <td> boy</td>\n",
       "      <td> G620</td>\n",
       "      <td>  996</td>\n",
       "    </tr>\n",
       "  </tbody>\n",
       "</table>\n",
       "</div>"
      ],
      "text/plain": [
       "   year     name      prop  sex soundex  yearwiserank\n",
       "0  1880     John  0.081541  boy    J500          1000\n",
       "1  1880  William  0.080511  boy    W450           999\n",
       "2  1880    James  0.050057  boy    J520           998\n",
       "3  1880  Charles  0.045167  boy    C642           997\n",
       "4  1880   George  0.043292  boy    G620           996"
      ]
     },
     "execution_count": 147,
     "metadata": {},
     "output_type": "execute_result"
    }
   ],
   "source": [
    "boys.head()"
   ]
  },
  {
   "cell_type": "code",
   "execution_count": 151,
   "metadata": {
    "collapsed": false
   },
   "outputs": [
    {
     "data": {
      "text/plain": [
       "<matplotlib.axes._subplots.AxesSubplot at 0x7f07820d0410>"
      ]
     },
     "execution_count": 151,
     "metadata": {},
     "output_type": "execute_result"
    },
    {
     "data": {
      "image/png": "[encoded data removed]",
      "text/plain": [
       "<matplotlib.figure.Figure at 0x7f07abbec090>"
      ]
     },
     "metadata": {},
     "output_type": "display_data"
    }
   ],
   "source": [
    "idf=boys.set_index(['name','year'])\n",
    "idf.ix['Wesley'].yearwiserank.plot()"
   ]
  },
  {
   "cell_type": "code",
   "execution_count": 152,
   "metadata": {
    "collapsed": true
   },
   "outputs": [],
   "source": [
    "births=read_csv('./births.csv')"
   ]
  },
  {
   "cell_type": "code",
   "execution_count": 153,
   "metadata": {
    "collapsed": false
   },
   "outputs": [
    {
     "data": {
      "text/html": [
       "<div style=\"max-height:1000px;max-width:1500px;overflow:auto;\">\n",
       "<table border=\"1\" class=\"dataframe\">\n",
       "  <thead>\n",
       "    <tr style=\"text-align: right;\">\n",
       "      <th></th>\n",
       "      <th>year</th>\n",
       "      <th>sex</th>\n",
       "      <th>births</th>\n",
       "    </tr>\n",
       "  </thead>\n",
       "  <tbody>\n",
       "    <tr>\n",
       "      <th>0</th>\n",
       "      <td> 1880</td>\n",
       "      <td> boy</td>\n",
       "      <td> 118405</td>\n",
       "    </tr>\n",
       "    <tr>\n",
       "      <th>1</th>\n",
       "      <td> 1881</td>\n",
       "      <td> boy</td>\n",
       "      <td> 108290</td>\n",
       "    </tr>\n",
       "    <tr>\n",
       "      <th>2</th>\n",
       "      <td> 1882</td>\n",
       "      <td> boy</td>\n",
       "      <td> 122034</td>\n",
       "    </tr>\n",
       "    <tr>\n",
       "      <th>3</th>\n",
       "      <td> 1883</td>\n",
       "      <td> boy</td>\n",
       "      <td> 112487</td>\n",
       "    </tr>\n",
       "    <tr>\n",
       "      <th>4</th>\n",
       "      <td> 1884</td>\n",
       "      <td> boy</td>\n",
       "      <td> 122745</td>\n",
       "    </tr>\n",
       "  </tbody>\n",
       "</table>\n",
       "</div>"
      ],
      "text/plain": [
       "   year  sex  births\n",
       "0  1880  boy  118405\n",
       "1  1881  boy  108290\n",
       "2  1882  boy  122034\n",
       "3  1883  boy  112487\n",
       "4  1884  boy  122745"
      ]
     },
     "execution_count": 153,
     "metadata": {},
     "output_type": "execute_result"
    }
   ],
   "source": [
    "births.head()"
   ]
  },
  {
   "cell_type": "code",
   "execution_count": 155,
   "metadata": {
    "collapsed": false
   },
   "outputs": [],
   "source": [
    "#lets say we want to ge the total number of johns across years\n",
    "namesbirths=merge(names,births,how='inner',on=['year','sex'])"
   ]
  },
  {
   "cell_type": "code",
   "execution_count": 157,
   "metadata": {
    "collapsed": false
   },
   "outputs": [
    {
     "data": {
      "text/plain": [
       "0"
      ]
     },
     "execution_count": 157,
     "metadata": {},
     "output_type": "execute_result"
    }
   ],
   "source": [
    "len(names)-len(namesbirths)"
   ]
  },
  {
   "cell_type": "code",
   "execution_count": 161,
   "metadata": {
    "collapsed": false
   },
   "outputs": [],
   "source": [
    "namesbirths['numbirths']=np.floor(namesbirths['births']*namesbirths['prop'])"
   ]
  },
  {
   "cell_type": "code",
   "execution_count": 162,
   "metadata": {
    "collapsed": false
   },
   "outputs": [
    {
     "data": {
      "text/html": [
       "<div style=\"max-height:1000px;max-width:1500px;overflow:auto;\">\n",
       "<table border=\"1\" class=\"dataframe\">\n",
       "  <thead>\n",
       "    <tr style=\"text-align: right;\">\n",
       "      <th></th>\n",
       "      <th>year</th>\n",
       "      <th>name</th>\n",
       "      <th>prop</th>\n",
       "      <th>sex</th>\n",
       "      <th>soundex</th>\n",
       "      <th>births</th>\n",
       "      <th>numbirths</th>\n",
       "    </tr>\n",
       "  </thead>\n",
       "  <tbody>\n",
       "    <tr>\n",
       "      <th>0</th>\n",
       "      <td> 1880</td>\n",
       "      <td>    John</td>\n",
       "      <td> 0.081541</td>\n",
       "      <td> boy</td>\n",
       "      <td> J500</td>\n",
       "      <td> 118405</td>\n",
       "      <td> 9654</td>\n",
       "    </tr>\n",
       "    <tr>\n",
       "      <th>1</th>\n",
       "      <td> 1880</td>\n",
       "      <td> William</td>\n",
       "      <td> 0.080511</td>\n",
       "      <td> boy</td>\n",
       "      <td> W450</td>\n",
       "      <td> 118405</td>\n",
       "      <td> 9532</td>\n",
       "    </tr>\n",
       "    <tr>\n",
       "      <th>2</th>\n",
       "      <td> 1880</td>\n",
       "      <td>   James</td>\n",
       "      <td> 0.050057</td>\n",
       "      <td> boy</td>\n",
       "      <td> J520</td>\n",
       "      <td> 118405</td>\n",
       "      <td> 5926</td>\n",
       "    </tr>\n",
       "    <tr>\n",
       "      <th>3</th>\n",
       "      <td> 1880</td>\n",
       "      <td> Charles</td>\n",
       "      <td> 0.045167</td>\n",
       "      <td> boy</td>\n",
       "      <td> C642</td>\n",
       "      <td> 118405</td>\n",
       "      <td> 5347</td>\n",
       "    </tr>\n",
       "    <tr>\n",
       "      <th>4</th>\n",
       "      <td> 1880</td>\n",
       "      <td>  George</td>\n",
       "      <td> 0.043292</td>\n",
       "      <td> boy</td>\n",
       "      <td> G620</td>\n",
       "      <td> 118405</td>\n",
       "      <td> 5125</td>\n",
       "    </tr>\n",
       "  </tbody>\n",
       "</table>\n",
       "</div>"
      ],
      "text/plain": [
       "   year     name      prop  sex soundex  births  numbirths\n",
       "0  1880     John  0.081541  boy    J500  118405       9654\n",
       "1  1880  William  0.080511  boy    W450  118405       9532\n",
       "2  1880    James  0.050057  boy    J520  118405       5926\n",
       "3  1880  Charles  0.045167  boy    C642  118405       5347\n",
       "4  1880   George  0.043292  boy    G620  118405       5125"
      ]
     },
     "execution_count": 162,
     "metadata": {},
     "output_type": "execute_result"
    }
   ],
   "source": [
    "namesbirths.head()"
   ]
  },
  {
   "cell_type": "code",
   "execution_count": 183,
   "metadata": {
    "collapsed": false
   },
   "outputs": [
    {
     "data": {
      "text/plain": [
       "name      sex \n",
       "Aaden     boy        959\n",
       "Aaliyah   girl     39660\n",
       "Aarav     boy        219\n",
       "Aaron     boy     508034\n",
       "          girl      1365\n",
       "Ab        boy         24\n",
       "Abagail   girl      2680\n",
       "Abb       boy         15\n",
       "Abbey     girl     14333\n",
       "Abbie     boy         10\n",
       "          girl     16556\n",
       "Abbigail  girl      6792\n",
       "Abbott    boy          9\n",
       "Abby      girl     47845\n",
       "Abdiel    boy        199\n",
       "Abdul     boy       2609\n",
       "Abdullah  boy       2352\n",
       "Abe       boy       6835\n",
       "Abel      boy      30752\n",
       "Abelardo  boy         68\n",
       "Name: numbirths, dtype: float64"
      ]
     },
     "execution_count": 183,
     "metadata": {},
     "output_type": "execute_result"
    }
   ],
   "source": [
    "namesbirths.groupby(['name','sex'])['numbirths'].sum().head(20)"
   ]
  },
  {
   "cell_type": "code",
   "execution_count": 187,
   "metadata": {
    "collapsed": false
   },
   "outputs": [],
   "source": [
    "someseries=namesbirths[namesbirths.sex=='boy'].set_index(['year','name'])['numbirths']"
   ]
  },
  {
   "cell_type": "code",
   "execution_count": 188,
   "metadata": {
    "collapsed": false
   },
   "outputs": [
    {
     "data": {
      "text/plain": [
       "<matplotlib.axes._subplots.AxesSubplot at 0x7f0780fb3390>"
      ]
     },
     "execution_count": 188,
     "metadata": {},
     "output_type": "execute_result"
    },
    {
     "data": {
      "image/png": "[encoded data removed]",
      "text/plain": [
       "<matplotlib.figure.Figure at 0x7f0781f47ad0>"
      ]
     },
     "metadata": {},
     "output_type": "display_data"
    }
   ],
   "source": [
    "someseries.ix[:,'Christopher'].plot(kind='bar',rot=90)"
   ]
  },
  {
   "cell_type": "code",
   "execution_count": 196,
   "metadata": {
    "collapsed": false
   },
   "outputs": [],
   "source": [
    "res=someseries.unstack('name')"
   ]
  },
  {
   "cell_type": "code",
   "execution_count": 201,
   "metadata": {
    "collapsed": false
   },
   "outputs": [
    {
     "data": {
      "image/png": "[encoded data removed]",
      "text/plain": [
       "<matplotlib.figure.Figure at 0x7f07809d1690>"
      ]
     },
     "metadata": {},
     "output_type": "display_data"
    }
   ],
   "source": [
    "result = res['Wesley'].plot()"
   ]
  },
  {
   "cell_type": "code",
   "execution_count": null,
   "metadata": {
    "collapsed": true
   },
   "outputs": [],
   "source": []
  },
  {
   "cell_type": "code",
   "execution_count": null,
   "metadata": {
    "collapsed": true
   },
   "outputs": [],
   "source": []
  },
  {
   "cell_type": "code",
   "execution_count": null,
   "metadata": {
    "collapsed": true
   },
   "outputs": [],
   "source": []
  }
 ],
 "metadata": {
  "kernelspec": {
   "display_name": "Python 2",
   "language": "python",
   "name": "python2"
  },
  "language_info": {
   "codemirror_mode": {
    "name": "ipython",
    "version": 2
   },
   "file_extension": ".py",
   "mimetype": "text/x-python",
   "name": "python",
   "nbconvert_exporter": "python",
   "pygments_lexer": "ipython2",
   "version": "2.7.9"
  }
 },
 "nbformat": 4,
 "nbformat_minor": 0
}
